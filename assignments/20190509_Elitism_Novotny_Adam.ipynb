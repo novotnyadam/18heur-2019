{
 "cells": [
  {
   "cell_type": "markdown",
   "metadata": {},
   "source": [
    "# Genetic Optimization and Elitism\n",
    "### Author: Adam Novotny, 18HEUR, 2019"
   ]
  },
  {
   "cell_type": "markdown",
   "metadata": {},
   "source": [
    "This Jupyter Notebook is concerned with **Genetic Optimization (GO)** and **Elitism** proposal demonstrated on Traveling Salesman Problem (TSP). \n",
    "\n",
    "## Tasks\n",
    "* 1. To tune hyperparameters for **GO** on **``TSPGrid(3, 3)``**: to find optimal crossover, mutation and correction parameters in the first phase;  $N$, $M$, $T_1$ and $T_2$ parameters in the second phase,\n",
    "\n",
    "* 2. To compare 'vanilla' **GO** and **Elitism**,\n",
    "\n",
    "* 3. (Matej's proposal:) To introduce **Elitism** in combination with **Parasitism** and compare with results from 2.\n",
    "\n",
    "## Goals\n",
    "* 1. To improve Cauchy mutation performance by introducing Lévy mutation,\n",
    "\n",
    "* 2. To improve **GO** by introducing **Elitism**.\n"
   ]
  },
  {
   "cell_type": "markdown",
   "metadata": {},
   "source": [
    "## Initialization"
   ]
  },
  {
   "cell_type": "code",
   "execution_count": 1,
   "metadata": {},
   "outputs": [],
   "source": [
    "# Import path to source directory (bit of a hack in Jupyter)\n",
    "import sys\n",
    "import os\n",
    "pwd = %pwd\n",
    "sys.path.append(os.path.join(pwd, os.path.join('..', 'src')))\n",
    "\n",
    "# Ensure modules are reloaded on any change (very useful when developing code on the fly)\n",
    "%load_ext autoreload\n",
    "%autoreload 2"
   ]
  },
  {
   "cell_type": "code",
   "execution_count": 2,
   "metadata": {},
   "outputs": [],
   "source": [
    "# Import external librarires\n",
    "import numpy as np\n",
    "import pandas as pd\n",
    "from tqdm import tqdm_notebook\n",
    "\n",
    "import matplotlib\n",
    "%matplotlib notebook\n",
    "import matplotlib.pyplot as plt\n",
    "import seaborn as sns\n",
    "sns.set()"
   ]
  },
  {
   "cell_type": "markdown",
   "metadata": {},
   "source": [
    "**``TSPGrid(3, 3)``** will be used for demonstration purposes."
   ]
  },
  {
   "cell_type": "code",
   "execution_count": 3,
   "metadata": {},
   "outputs": [],
   "source": [
    "from objfun_tsp import TSPGrid\n",
    "tsp = TSPGrid(3, 3)"
   ]
  },
  {
   "cell_type": "code",
   "execution_count": 4,
   "metadata": {},
   "outputs": [],
   "source": [
    "from heur_go import Crossover, UniformMultipoint, RandomCombination # crossover\n",
    "from heur_go import GeneticOptimization # heuristics \n",
    "from heur_aux import Correction, MirrorCorrection, ExtensionCorrection # corrections \n",
    "from heur_aux import CauchyMutation, LevyMutation # mutations"
   ]
  },
  {
   "cell_type": "code",
   "execution_count": 5,
   "metadata": {},
   "outputs": [],
   "source": [
    "def rel(x):\n",
    "    return len([n for n in x if n < np.inf])/len(x)\n",
    "def mne(x):\n",
    "    return np.mean([n for n in x if n < np.inf])\n",
    "def feo(x):\n",
    "    return mne(x)/rel(x)"
   ]
  },
  {
   "cell_type": "code",
   "execution_count": 6,
   "metadata": {},
   "outputs": [],
   "source": [
    "NUM_RUNS = 1000\n",
    "maxeval = 100"
   ]
  },
  {
   "cell_type": "markdown",
   "metadata": {},
   "source": [
    "## 1. Hyperparameter tuning \n",
    "### Tuning of crossover, correction and mutation hyperparameters for GO "
   ]
  },
  {
   "cell_type": "markdown",
   "metadata": {},
   "source": [
    "Subsequent code uses different **crossovers, corrections and mutations**. The user can choose different settings in either group. \n",
    "\n",
    "* Crossover options are: mix crossover Crossover(), RandomCombination() and UniformMultipoint($k$), where parameter $k \\in \\mathbb{N}$ is set by user,\n",
    "\n",
    "* correction options are: vanilla correction Correction(of), MirrorCorrection(of) and ExtensionCorrection(of),\n",
    "\n",
    "* mutations options are: CauchyMutation($\\gamma$) and LevyMutation($\\gamma$), where parameter $\\gamma > 0$ is set by user.\n",
    "\n",
    "In the current settings there are 5 crossover, 3 correction and 2 mutation options."
   ]
  },
  {
   "cell_type": "code",
   "execution_count": 7,
   "metadata": {},
   "outputs": [],
   "source": [
    "multipoints = [1, 2, 3]\n",
    "crossovers = [\n",
    "    {'crossover': Crossover(), 'name': 'mix'},\n",
    "    {'crossover': RandomCombination(), 'name': 'rnd'}]\n",
    "for multipoint in multipoints:\n",
    "    crossover = {'crossover': UniformMultipoint(multipoint), 'name': 'uni{}'.format(multipoint)}\n",
    "    crossovers.append(crossover)\n",
    "\n",
    "corrections = [\n",
    "    {'correction': Correction(tsp), 'name': 'vanilla'},\n",
    "    {'correction': MirrorCorrection(tsp), 'name': 'mirror'},\n",
    "    {'correction': ExtensionCorrection(tsp), 'name': 'extension'}]\n",
    "\n",
    "parameters = [1, 3, 5]\n",
    "mutations = []\n",
    "for parameter in parameters:\n",
    "    for correction in corrections:\n",
    "        mutation = {'mutation': CauchyMutation(r=parameter, correction = correction['correction']), 'name': 'cauchy{}_'\n",
    "                   .format(parameter)+correction['name']}\n",
    "        mutations.append(mutation)\n",
    "        mutation = {'mutation': LevyMutation(scale=parameter, correction = correction['correction']), 'name': 'levy{}_'\n",
    "                   .format(parameter)+correction['name']}\n",
    "        mutations.append(mutation)"
   ]
  },
  {
   "cell_type": "code",
   "execution_count": 8,
   "metadata": {
    "scrolled": true
   },
   "outputs": [
    {
     "data": {
      "application/vnd.jupyter.widget-view+json": {
       "model_id": "781da3b077a244bba58333f52d0ecddd",
       "version_major": 2,
       "version_minor": 0
      },
      "text/plain": [
       "HBox(children=(IntProgress(value=0, description='Testing GO_mut:(cauchy1_vanilla)_cro:mix', max=1000, style=Pr…"
      ]
     },
     "metadata": {},
     "output_type": "display_data"
    },
    {
     "name": "stdout",
     "output_type": "stream",
     "text": [
      "\n"
     ]
    },
    {
     "data": {
      "application/vnd.jupyter.widget-view+json": {
       "model_id": "a90bf4c47a4e4e4ca3daf7bd54d958b2",
       "version_major": 2,
       "version_minor": 0
      },
      "text/plain": [
       "HBox(children=(IntProgress(value=0, description='Testing GO_mut:(levy1_vanilla)_cro:mix', max=1000, style=Prog…"
      ]
     },
     "metadata": {},
     "output_type": "display_data"
    },
    {
     "name": "stdout",
     "output_type": "stream",
     "text": [
      "\n"
     ]
    },
    {
     "data": {
      "application/vnd.jupyter.widget-view+json": {
       "model_id": "161984cb944848d58333e7a9a236e41a",
       "version_major": 2,
       "version_minor": 0
      },
      "text/plain": [
       "HBox(children=(IntProgress(value=0, description='Testing GO_mut:(cauchy1_mirror)_cro:mix', max=1000, style=Pro…"
      ]
     },
     "metadata": {},
     "output_type": "display_data"
    },
    {
     "name": "stdout",
     "output_type": "stream",
     "text": [
      "\n"
     ]
    },
    {
     "data": {
      "application/vnd.jupyter.widget-view+json": {
       "model_id": "914e352b844b46a785b24c4ef6fdf6e8",
       "version_major": 2,
       "version_minor": 0
      },
      "text/plain": [
       "HBox(children=(IntProgress(value=0, description='Testing GO_mut:(levy1_mirror)_cro:mix', max=1000, style=Progr…"
      ]
     },
     "metadata": {},
     "output_type": "display_data"
    },
    {
     "name": "stdout",
     "output_type": "stream",
     "text": [
      "\n"
     ]
    },
    {
     "data": {
      "application/vnd.jupyter.widget-view+json": {
       "model_id": "5fe69a9cba2c4c349de0ca0a792164d0",
       "version_major": 2,
       "version_minor": 0
      },
      "text/plain": [
       "HBox(children=(IntProgress(value=0, description='Testing GO_mut:(cauchy1_extension)_cro:mix', max=1000, style=…"
      ]
     },
     "metadata": {},
     "output_type": "display_data"
    },
    {
     "name": "stdout",
     "output_type": "stream",
     "text": [
      "\n"
     ]
    },
    {
     "data": {
      "application/vnd.jupyter.widget-view+json": {
       "model_id": "c1b7b0be05424125a3147bca98686634",
       "version_major": 2,
       "version_minor": 0
      },
      "text/plain": [
       "HBox(children=(IntProgress(value=0, description='Testing GO_mut:(levy1_extension)_cro:mix', max=1000, style=Pr…"
      ]
     },
     "metadata": {},
     "output_type": "display_data"
    },
    {
     "name": "stdout",
     "output_type": "stream",
     "text": [
      "\n"
     ]
    },
    {
     "data": {
      "application/vnd.jupyter.widget-view+json": {
       "model_id": "f7b2cc212e5145ccb8b560de41718442",
       "version_major": 2,
       "version_minor": 0
      },
      "text/plain": [
       "HBox(children=(IntProgress(value=0, description='Testing GO_mut:(cauchy3_vanilla)_cro:mix', max=1000, style=Pr…"
      ]
     },
     "metadata": {},
     "output_type": "display_data"
    },
    {
     "name": "stdout",
     "output_type": "stream",
     "text": [
      "\n"
     ]
    },
    {
     "data": {
      "application/vnd.jupyter.widget-view+json": {
       "model_id": "ed35abc3fdf5400dbefa4958d76ad1ee",
       "version_major": 2,
       "version_minor": 0
      },
      "text/plain": [
       "HBox(children=(IntProgress(value=0, description='Testing GO_mut:(levy3_vanilla)_cro:mix', max=1000, style=Prog…"
      ]
     },
     "metadata": {},
     "output_type": "display_data"
    },
    {
     "name": "stdout",
     "output_type": "stream",
     "text": [
      "\n"
     ]
    },
    {
     "data": {
      "application/vnd.jupyter.widget-view+json": {
       "model_id": "85506eba51934ccb8b17655bff21410d",
       "version_major": 2,
       "version_minor": 0
      },
      "text/plain": [
       "HBox(children=(IntProgress(value=0, description='Testing GO_mut:(cauchy3_mirror)_cro:mix', max=1000, style=Pro…"
      ]
     },
     "metadata": {},
     "output_type": "display_data"
    },
    {
     "name": "stdout",
     "output_type": "stream",
     "text": [
      "\n"
     ]
    },
    {
     "data": {
      "application/vnd.jupyter.widget-view+json": {
       "model_id": "5743827188384d8ebd897e5b3df12b0d",
       "version_major": 2,
       "version_minor": 0
      },
      "text/plain": [
       "HBox(children=(IntProgress(value=0, description='Testing GO_mut:(levy3_mirror)_cro:mix', max=1000, style=Progr…"
      ]
     },
     "metadata": {},
     "output_type": "display_data"
    },
    {
     "name": "stdout",
     "output_type": "stream",
     "text": [
      "\n"
     ]
    },
    {
     "data": {
      "application/vnd.jupyter.widget-view+json": {
       "model_id": "193a95a288df40d9aa51cb73e001c3ed",
       "version_major": 2,
       "version_minor": 0
      },
      "text/plain": [
       "HBox(children=(IntProgress(value=0, description='Testing GO_mut:(cauchy3_extension)_cro:mix', max=1000, style=…"
      ]
     },
     "metadata": {},
     "output_type": "display_data"
    },
    {
     "name": "stdout",
     "output_type": "stream",
     "text": [
      "\n"
     ]
    },
    {
     "data": {
      "application/vnd.jupyter.widget-view+json": {
       "model_id": "862c0d64819c4f8db435bdc0f99dbdea",
       "version_major": 2,
       "version_minor": 0
      },
      "text/plain": [
       "HBox(children=(IntProgress(value=0, description='Testing GO_mut:(levy3_extension)_cro:mix', max=1000, style=Pr…"
      ]
     },
     "metadata": {},
     "output_type": "display_data"
    },
    {
     "name": "stdout",
     "output_type": "stream",
     "text": [
      "\n"
     ]
    },
    {
     "data": {
      "application/vnd.jupyter.widget-view+json": {
       "model_id": "58699cabe5b24793bbda016d6e7d8731",
       "version_major": 2,
       "version_minor": 0
      },
      "text/plain": [
       "HBox(children=(IntProgress(value=0, description='Testing GO_mut:(cauchy5_vanilla)_cro:mix', max=1000, style=Pr…"
      ]
     },
     "metadata": {},
     "output_type": "display_data"
    },
    {
     "name": "stdout",
     "output_type": "stream",
     "text": [
      "\n"
     ]
    },
    {
     "data": {
      "application/vnd.jupyter.widget-view+json": {
       "model_id": "315e4c93bb834a3e837a9d24091946f8",
       "version_major": 2,
       "version_minor": 0
      },
      "text/plain": [
       "HBox(children=(IntProgress(value=0, description='Testing GO_mut:(levy5_vanilla)_cro:mix', max=1000, style=Prog…"
      ]
     },
     "metadata": {},
     "output_type": "display_data"
    },
    {
     "name": "stdout",
     "output_type": "stream",
     "text": [
      "\n"
     ]
    },
    {
     "data": {
      "application/vnd.jupyter.widget-view+json": {
       "model_id": "2be8b6680d3843ac849d296754d815bc",
       "version_major": 2,
       "version_minor": 0
      },
      "text/plain": [
       "HBox(children=(IntProgress(value=0, description='Testing GO_mut:(cauchy5_mirror)_cro:mix', max=1000, style=Pro…"
      ]
     },
     "metadata": {},
     "output_type": "display_data"
    },
    {
     "name": "stdout",
     "output_type": "stream",
     "text": [
      "\n"
     ]
    },
    {
     "data": {
      "application/vnd.jupyter.widget-view+json": {
       "model_id": "69c92b7c77034804b87a53dcfea2c95f",
       "version_major": 2,
       "version_minor": 0
      },
      "text/plain": [
       "HBox(children=(IntProgress(value=0, description='Testing GO_mut:(levy5_mirror)_cro:mix', max=1000, style=Progr…"
      ]
     },
     "metadata": {},
     "output_type": "display_data"
    },
    {
     "name": "stdout",
     "output_type": "stream",
     "text": [
      "\n"
     ]
    },
    {
     "data": {
      "application/vnd.jupyter.widget-view+json": {
       "model_id": "a238ba31143f4d1da926cb7de4ec5402",
       "version_major": 2,
       "version_minor": 0
      },
      "text/plain": [
       "HBox(children=(IntProgress(value=0, description='Testing GO_mut:(cauchy5_extension)_cro:mix', max=1000, style=…"
      ]
     },
     "metadata": {},
     "output_type": "display_data"
    },
    {
     "name": "stdout",
     "output_type": "stream",
     "text": [
      "\n"
     ]
    },
    {
     "data": {
      "application/vnd.jupyter.widget-view+json": {
       "model_id": "8d8965cbcf16498ab0b533feca46b2ef",
       "version_major": 2,
       "version_minor": 0
      },
      "text/plain": [
       "HBox(children=(IntProgress(value=0, description='Testing GO_mut:(levy5_extension)_cro:mix', max=1000, style=Pr…"
      ]
     },
     "metadata": {},
     "output_type": "display_data"
    },
    {
     "name": "stdout",
     "output_type": "stream",
     "text": [
      "\n"
     ]
    },
    {
     "data": {
      "application/vnd.jupyter.widget-view+json": {
       "model_id": "a75612723f95499dbb243f184e33f956",
       "version_major": 2,
       "version_minor": 0
      },
      "text/plain": [
       "HBox(children=(IntProgress(value=0, description='Testing GO_mut:(cauchy1_vanilla)_cro:rnd', max=1000, style=Pr…"
      ]
     },
     "metadata": {},
     "output_type": "display_data"
    },
    {
     "name": "stdout",
     "output_type": "stream",
     "text": [
      "\n"
     ]
    },
    {
     "data": {
      "application/vnd.jupyter.widget-view+json": {
       "model_id": "0f71935313004ef38cef12af03666e35",
       "version_major": 2,
       "version_minor": 0
      },
      "text/plain": [
       "HBox(children=(IntProgress(value=0, description='Testing GO_mut:(levy1_vanilla)_cro:rnd', max=1000, style=Prog…"
      ]
     },
     "metadata": {},
     "output_type": "display_data"
    },
    {
     "name": "stdout",
     "output_type": "stream",
     "text": [
      "\n"
     ]
    },
    {
     "data": {
      "application/vnd.jupyter.widget-view+json": {
       "model_id": "47ee7feb768a4aed8b3eb65f86d6aae2",
       "version_major": 2,
       "version_minor": 0
      },
      "text/plain": [
       "HBox(children=(IntProgress(value=0, description='Testing GO_mut:(cauchy1_mirror)_cro:rnd', max=1000, style=Pro…"
      ]
     },
     "metadata": {},
     "output_type": "display_data"
    },
    {
     "name": "stdout",
     "output_type": "stream",
     "text": [
      "\n"
     ]
    },
    {
     "data": {
      "application/vnd.jupyter.widget-view+json": {
       "model_id": "f838f2323d484f229378da6bdee75847",
       "version_major": 2,
       "version_minor": 0
      },
      "text/plain": [
       "HBox(children=(IntProgress(value=0, description='Testing GO_mut:(levy1_mirror)_cro:rnd', max=1000, style=Progr…"
      ]
     },
     "metadata": {},
     "output_type": "display_data"
    },
    {
     "name": "stdout",
     "output_type": "stream",
     "text": [
      "\n"
     ]
    },
    {
     "data": {
      "application/vnd.jupyter.widget-view+json": {
       "model_id": "25bc3116fc4241c8a7b4c61a81bfa89f",
       "version_major": 2,
       "version_minor": 0
      },
      "text/plain": [
       "HBox(children=(IntProgress(value=0, description='Testing GO_mut:(cauchy1_extension)_cro:rnd', max=1000, style=…"
      ]
     },
     "metadata": {},
     "output_type": "display_data"
    },
    {
     "name": "stdout",
     "output_type": "stream",
     "text": [
      "\n"
     ]
    },
    {
     "data": {
      "application/vnd.jupyter.widget-view+json": {
       "model_id": "44c9b740bf6340648ab055cce9f7aeaa",
       "version_major": 2,
       "version_minor": 0
      },
      "text/plain": [
       "HBox(children=(IntProgress(value=0, description='Testing GO_mut:(levy1_extension)_cro:rnd', max=1000, style=Pr…"
      ]
     },
     "metadata": {},
     "output_type": "display_data"
    },
    {
     "name": "stdout",
     "output_type": "stream",
     "text": [
      "\n"
     ]
    },
    {
     "data": {
      "application/vnd.jupyter.widget-view+json": {
       "model_id": "e413db90f1a948bfb735704a7cc6664f",
       "version_major": 2,
       "version_minor": 0
      },
      "text/plain": [
       "HBox(children=(IntProgress(value=0, description='Testing GO_mut:(cauchy3_vanilla)_cro:rnd', max=1000, style=Pr…"
      ]
     },
     "metadata": {},
     "output_type": "display_data"
    },
    {
     "name": "stdout",
     "output_type": "stream",
     "text": [
      "\n"
     ]
    },
    {
     "data": {
      "application/vnd.jupyter.widget-view+json": {
       "model_id": "32a96f7e475147a7894e2e9b12559a15",
       "version_major": 2,
       "version_minor": 0
      },
      "text/plain": [
       "HBox(children=(IntProgress(value=0, description='Testing GO_mut:(levy3_vanilla)_cro:rnd', max=1000, style=Prog…"
      ]
     },
     "metadata": {},
     "output_type": "display_data"
    },
    {
     "name": "stdout",
     "output_type": "stream",
     "text": [
      "\n"
     ]
    },
    {
     "data": {
      "application/vnd.jupyter.widget-view+json": {
       "model_id": "d8cde43312a04177a96ad9c898960a1c",
       "version_major": 2,
       "version_minor": 0
      },
      "text/plain": [
       "HBox(children=(IntProgress(value=0, description='Testing GO_mut:(cauchy3_mirror)_cro:rnd', max=1000, style=Pro…"
      ]
     },
     "metadata": {},
     "output_type": "display_data"
    },
    {
     "name": "stdout",
     "output_type": "stream",
     "text": [
      "\n"
     ]
    },
    {
     "data": {
      "application/vnd.jupyter.widget-view+json": {
       "model_id": "0ac83c35f6444a94bcfeff0d71784f49",
       "version_major": 2,
       "version_minor": 0
      },
      "text/plain": [
       "HBox(children=(IntProgress(value=0, description='Testing GO_mut:(levy3_mirror)_cro:rnd', max=1000, style=Progr…"
      ]
     },
     "metadata": {},
     "output_type": "display_data"
    },
    {
     "name": "stdout",
     "output_type": "stream",
     "text": [
      "\n"
     ]
    },
    {
     "data": {
      "application/vnd.jupyter.widget-view+json": {
       "model_id": "fdf5b6a34f3d4982a6694b8c8e92357f",
       "version_major": 2,
       "version_minor": 0
      },
      "text/plain": [
       "HBox(children=(IntProgress(value=0, description='Testing GO_mut:(cauchy3_extension)_cro:rnd', max=1000, style=…"
      ]
     },
     "metadata": {},
     "output_type": "display_data"
    },
    {
     "name": "stdout",
     "output_type": "stream",
     "text": [
      "\n"
     ]
    },
    {
     "data": {
      "application/vnd.jupyter.widget-view+json": {
       "model_id": "376df6177eff478fa862c72359a902a8",
       "version_major": 2,
       "version_minor": 0
      },
      "text/plain": [
       "HBox(children=(IntProgress(value=0, description='Testing GO_mut:(levy3_extension)_cro:rnd', max=1000, style=Pr…"
      ]
     },
     "metadata": {},
     "output_type": "display_data"
    },
    {
     "name": "stdout",
     "output_type": "stream",
     "text": [
      "\n"
     ]
    },
    {
     "data": {
      "application/vnd.jupyter.widget-view+json": {
       "model_id": "7ed6fde186a2474da56ffd9b4b2605bd",
       "version_major": 2,
       "version_minor": 0
      },
      "text/plain": [
       "HBox(children=(IntProgress(value=0, description='Testing GO_mut:(cauchy5_vanilla)_cro:rnd', max=1000, style=Pr…"
      ]
     },
     "metadata": {},
     "output_type": "display_data"
    },
    {
     "name": "stdout",
     "output_type": "stream",
     "text": [
      "\n"
     ]
    },
    {
     "data": {
      "application/vnd.jupyter.widget-view+json": {
       "model_id": "67c9623ba1a44e608401f565b7ed08b0",
       "version_major": 2,
       "version_minor": 0
      },
      "text/plain": [
       "HBox(children=(IntProgress(value=0, description='Testing GO_mut:(levy5_vanilla)_cro:rnd', max=1000, style=Prog…"
      ]
     },
     "metadata": {},
     "output_type": "display_data"
    },
    {
     "name": "stdout",
     "output_type": "stream",
     "text": [
      "\n"
     ]
    },
    {
     "data": {
      "application/vnd.jupyter.widget-view+json": {
       "model_id": "7d43d3a7421242e0a8dd69150c68027f",
       "version_major": 2,
       "version_minor": 0
      },
      "text/plain": [
       "HBox(children=(IntProgress(value=0, description='Testing GO_mut:(cauchy5_mirror)_cro:rnd', max=1000, style=Pro…"
      ]
     },
     "metadata": {},
     "output_type": "display_data"
    },
    {
     "name": "stdout",
     "output_type": "stream",
     "text": [
      "\n"
     ]
    },
    {
     "data": {
      "application/vnd.jupyter.widget-view+json": {
       "model_id": "ab00f3f00f524a09970143f9c4eaa5d1",
       "version_major": 2,
       "version_minor": 0
      },
      "text/plain": [
       "HBox(children=(IntProgress(value=0, description='Testing GO_mut:(levy5_mirror)_cro:rnd', max=1000, style=Progr…"
      ]
     },
     "metadata": {},
     "output_type": "display_data"
    },
    {
     "name": "stdout",
     "output_type": "stream",
     "text": [
      "\n"
     ]
    },
    {
     "data": {
      "application/vnd.jupyter.widget-view+json": {
       "model_id": "393e931dcd084131bb72d3a9b56381f0",
       "version_major": 2,
       "version_minor": 0
      },
      "text/plain": [
       "HBox(children=(IntProgress(value=0, description='Testing GO_mut:(cauchy5_extension)_cro:rnd', max=1000, style=…"
      ]
     },
     "metadata": {},
     "output_type": "display_data"
    },
    {
     "name": "stdout",
     "output_type": "stream",
     "text": [
      "\n"
     ]
    },
    {
     "data": {
      "application/vnd.jupyter.widget-view+json": {
       "model_id": "e4adc851c24e4eb19ea63317d15dca32",
       "version_major": 2,
       "version_minor": 0
      },
      "text/plain": [
       "HBox(children=(IntProgress(value=0, description='Testing GO_mut:(levy5_extension)_cro:rnd', max=1000, style=Pr…"
      ]
     },
     "metadata": {},
     "output_type": "display_data"
    },
    {
     "name": "stdout",
     "output_type": "stream",
     "text": [
      "\n"
     ]
    },
    {
     "data": {
      "application/vnd.jupyter.widget-view+json": {
       "model_id": "0bc8b837b0124c20bbaf838ae34ff0e6",
       "version_major": 2,
       "version_minor": 0
      },
      "text/plain": [
       "HBox(children=(IntProgress(value=0, description='Testing GO_mut:(cauchy1_vanilla)_cro:uni1', max=1000, style=P…"
      ]
     },
     "metadata": {},
     "output_type": "display_data"
    },
    {
     "name": "stdout",
     "output_type": "stream",
     "text": [
      "\n"
     ]
    },
    {
     "data": {
      "application/vnd.jupyter.widget-view+json": {
       "model_id": "cce1bc4bcbd34b8a977d44576fa2ddec",
       "version_major": 2,
       "version_minor": 0
      },
      "text/plain": [
       "HBox(children=(IntProgress(value=0, description='Testing GO_mut:(levy1_vanilla)_cro:uni1', max=1000, style=Pro…"
      ]
     },
     "metadata": {},
     "output_type": "display_data"
    },
    {
     "name": "stdout",
     "output_type": "stream",
     "text": [
      "\n"
     ]
    },
    {
     "data": {
      "application/vnd.jupyter.widget-view+json": {
       "model_id": "52cbbe23f7f6440b915417d6d49f2329",
       "version_major": 2,
       "version_minor": 0
      },
      "text/plain": [
       "HBox(children=(IntProgress(value=0, description='Testing GO_mut:(cauchy1_mirror)_cro:uni1', max=1000, style=Pr…"
      ]
     },
     "metadata": {},
     "output_type": "display_data"
    },
    {
     "name": "stdout",
     "output_type": "stream",
     "text": [
      "\n"
     ]
    },
    {
     "data": {
      "application/vnd.jupyter.widget-view+json": {
       "model_id": "ebc01978e88848bb9eb36274ad6aa7ee",
       "version_major": 2,
       "version_minor": 0
      },
      "text/plain": [
       "HBox(children=(IntProgress(value=0, description='Testing GO_mut:(levy1_mirror)_cro:uni1', max=1000, style=Prog…"
      ]
     },
     "metadata": {},
     "output_type": "display_data"
    },
    {
     "name": "stdout",
     "output_type": "stream",
     "text": [
      "\n"
     ]
    },
    {
     "data": {
      "application/vnd.jupyter.widget-view+json": {
       "model_id": "5c43b9c26d6f40208ae616d8f6201439",
       "version_major": 2,
       "version_minor": 0
      },
      "text/plain": [
       "HBox(children=(IntProgress(value=0, description='Testing GO_mut:(cauchy1_extension)_cro:uni1', max=1000, style…"
      ]
     },
     "metadata": {},
     "output_type": "display_data"
    },
    {
     "name": "stdout",
     "output_type": "stream",
     "text": [
      "\n"
     ]
    },
    {
     "data": {
      "application/vnd.jupyter.widget-view+json": {
       "model_id": "314d4015dd60438db26be93946b4cdd8",
       "version_major": 2,
       "version_minor": 0
      },
      "text/plain": [
       "HBox(children=(IntProgress(value=0, description='Testing GO_mut:(levy1_extension)_cro:uni1', max=1000, style=P…"
      ]
     },
     "metadata": {},
     "output_type": "display_data"
    },
    {
     "name": "stdout",
     "output_type": "stream",
     "text": [
      "\n"
     ]
    },
    {
     "data": {
      "application/vnd.jupyter.widget-view+json": {
       "model_id": "1f8d6ff0f1104208aae280b56452aadd",
       "version_major": 2,
       "version_minor": 0
      },
      "text/plain": [
       "HBox(children=(IntProgress(value=0, description='Testing GO_mut:(cauchy3_vanilla)_cro:uni1', max=1000, style=P…"
      ]
     },
     "metadata": {},
     "output_type": "display_data"
    },
    {
     "name": "stdout",
     "output_type": "stream",
     "text": [
      "\n"
     ]
    },
    {
     "data": {
      "application/vnd.jupyter.widget-view+json": {
       "model_id": "144fdcefc4584e9eb917bff0b82eb395",
       "version_major": 2,
       "version_minor": 0
      },
      "text/plain": [
       "HBox(children=(IntProgress(value=0, description='Testing GO_mut:(levy3_vanilla)_cro:uni1', max=1000, style=Pro…"
      ]
     },
     "metadata": {},
     "output_type": "display_data"
    },
    {
     "name": "stdout",
     "output_type": "stream",
     "text": [
      "\n"
     ]
    },
    {
     "data": {
      "application/vnd.jupyter.widget-view+json": {
       "model_id": "d36b388e6abf4a2a9d74e4062c49fa0a",
       "version_major": 2,
       "version_minor": 0
      },
      "text/plain": [
       "HBox(children=(IntProgress(value=0, description='Testing GO_mut:(cauchy3_mirror)_cro:uni1', max=1000, style=Pr…"
      ]
     },
     "metadata": {},
     "output_type": "display_data"
    },
    {
     "name": "stdout",
     "output_type": "stream",
     "text": [
      "\n"
     ]
    },
    {
     "data": {
      "application/vnd.jupyter.widget-view+json": {
       "model_id": "056d4824911745269fadb971c2df1743",
       "version_major": 2,
       "version_minor": 0
      },
      "text/plain": [
       "HBox(children=(IntProgress(value=0, description='Testing GO_mut:(levy3_mirror)_cro:uni1', max=1000, style=Prog…"
      ]
     },
     "metadata": {},
     "output_type": "display_data"
    },
    {
     "name": "stdout",
     "output_type": "stream",
     "text": [
      "\n"
     ]
    },
    {
     "data": {
      "application/vnd.jupyter.widget-view+json": {
       "model_id": "14f395bfc0a34d06a1855f65a36d9802",
       "version_major": 2,
       "version_minor": 0
      },
      "text/plain": [
       "HBox(children=(IntProgress(value=0, description='Testing GO_mut:(cauchy3_extension)_cro:uni1', max=1000, style…"
      ]
     },
     "metadata": {},
     "output_type": "display_data"
    },
    {
     "name": "stdout",
     "output_type": "stream",
     "text": [
      "\n"
     ]
    },
    {
     "data": {
      "application/vnd.jupyter.widget-view+json": {
       "model_id": "25279498fcf44a6a8b760d4ef700ff20",
       "version_major": 2,
       "version_minor": 0
      },
      "text/plain": [
       "HBox(children=(IntProgress(value=0, description='Testing GO_mut:(levy3_extension)_cro:uni1', max=1000, style=P…"
      ]
     },
     "metadata": {},
     "output_type": "display_data"
    },
    {
     "name": "stdout",
     "output_type": "stream",
     "text": [
      "\n"
     ]
    },
    {
     "data": {
      "application/vnd.jupyter.widget-view+json": {
       "model_id": "77a6409435d34effa7d0d9337e08a699",
       "version_major": 2,
       "version_minor": 0
      },
      "text/plain": [
       "HBox(children=(IntProgress(value=0, description='Testing GO_mut:(cauchy5_vanilla)_cro:uni1', max=1000, style=P…"
      ]
     },
     "metadata": {},
     "output_type": "display_data"
    },
    {
     "name": "stdout",
     "output_type": "stream",
     "text": [
      "\n"
     ]
    },
    {
     "data": {
      "application/vnd.jupyter.widget-view+json": {
       "model_id": "97b9ab3fb60847e9b7e522eff6b495f6",
       "version_major": 2,
       "version_minor": 0
      },
      "text/plain": [
       "HBox(children=(IntProgress(value=0, description='Testing GO_mut:(levy5_vanilla)_cro:uni1', max=1000, style=Pro…"
      ]
     },
     "metadata": {},
     "output_type": "display_data"
    },
    {
     "name": "stdout",
     "output_type": "stream",
     "text": [
      "\n"
     ]
    },
    {
     "data": {
      "application/vnd.jupyter.widget-view+json": {
       "model_id": "fde5ec4d81054244a4865f24e0933cad",
       "version_major": 2,
       "version_minor": 0
      },
      "text/plain": [
       "HBox(children=(IntProgress(value=0, description='Testing GO_mut:(cauchy5_mirror)_cro:uni1', max=1000, style=Pr…"
      ]
     },
     "metadata": {},
     "output_type": "display_data"
    },
    {
     "name": "stdout",
     "output_type": "stream",
     "text": [
      "\n"
     ]
    },
    {
     "data": {
      "application/vnd.jupyter.widget-view+json": {
       "model_id": "7d7351a85d9e421295ca0d78fa23b324",
       "version_major": 2,
       "version_minor": 0
      },
      "text/plain": [
       "HBox(children=(IntProgress(value=0, description='Testing GO_mut:(levy5_mirror)_cro:uni1', max=1000, style=Prog…"
      ]
     },
     "metadata": {},
     "output_type": "display_data"
    },
    {
     "name": "stdout",
     "output_type": "stream",
     "text": [
      "\n"
     ]
    },
    {
     "data": {
      "application/vnd.jupyter.widget-view+json": {
       "model_id": "e075053c36d94c65b71f17ef95a13248",
       "version_major": 2,
       "version_minor": 0
      },
      "text/plain": [
       "HBox(children=(IntProgress(value=0, description='Testing GO_mut:(cauchy5_extension)_cro:uni1', max=1000, style…"
      ]
     },
     "metadata": {},
     "output_type": "display_data"
    },
    {
     "name": "stdout",
     "output_type": "stream",
     "text": [
      "\n"
     ]
    },
    {
     "data": {
      "application/vnd.jupyter.widget-view+json": {
       "model_id": "573c24cd717447cd957bcbcb14422ba3",
       "version_major": 2,
       "version_minor": 0
      },
      "text/plain": [
       "HBox(children=(IntProgress(value=0, description='Testing GO_mut:(levy5_extension)_cro:uni1', max=1000, style=P…"
      ]
     },
     "metadata": {},
     "output_type": "display_data"
    },
    {
     "name": "stdout",
     "output_type": "stream",
     "text": [
      "\n"
     ]
    },
    {
     "data": {
      "application/vnd.jupyter.widget-view+json": {
       "model_id": "01877de13c404a06afd0fb3ef62922a2",
       "version_major": 2,
       "version_minor": 0
      },
      "text/plain": [
       "HBox(children=(IntProgress(value=0, description='Testing GO_mut:(cauchy1_vanilla)_cro:uni2', max=1000, style=P…"
      ]
     },
     "metadata": {},
     "output_type": "display_data"
    },
    {
     "name": "stdout",
     "output_type": "stream",
     "text": [
      "\n"
     ]
    },
    {
     "data": {
      "application/vnd.jupyter.widget-view+json": {
       "model_id": "a7a6ec460eeb4de8b630906d94bbf611",
       "version_major": 2,
       "version_minor": 0
      },
      "text/plain": [
       "HBox(children=(IntProgress(value=0, description='Testing GO_mut:(levy1_vanilla)_cro:uni2', max=1000, style=Pro…"
      ]
     },
     "metadata": {},
     "output_type": "display_data"
    },
    {
     "name": "stdout",
     "output_type": "stream",
     "text": [
      "\n"
     ]
    },
    {
     "data": {
      "application/vnd.jupyter.widget-view+json": {
       "model_id": "0f67f5a0a7e94203a40b037621f53b43",
       "version_major": 2,
       "version_minor": 0
      },
      "text/plain": [
       "HBox(children=(IntProgress(value=0, description='Testing GO_mut:(cauchy1_mirror)_cro:uni2', max=1000, style=Pr…"
      ]
     },
     "metadata": {},
     "output_type": "display_data"
    },
    {
     "name": "stdout",
     "output_type": "stream",
     "text": [
      "\n"
     ]
    },
    {
     "data": {
      "application/vnd.jupyter.widget-view+json": {
       "model_id": "59f521dc6861444a9db017bb27f5ca69",
       "version_major": 2,
       "version_minor": 0
      },
      "text/plain": [
       "HBox(children=(IntProgress(value=0, description='Testing GO_mut:(levy1_mirror)_cro:uni2', max=1000, style=Prog…"
      ]
     },
     "metadata": {},
     "output_type": "display_data"
    },
    {
     "name": "stdout",
     "output_type": "stream",
     "text": [
      "\n"
     ]
    },
    {
     "data": {
      "application/vnd.jupyter.widget-view+json": {
       "model_id": "72d03385f1734b95be61919ea410cd58",
       "version_major": 2,
       "version_minor": 0
      },
      "text/plain": [
       "HBox(children=(IntProgress(value=0, description='Testing GO_mut:(cauchy1_extension)_cro:uni2', max=1000, style…"
      ]
     },
     "metadata": {},
     "output_type": "display_data"
    },
    {
     "name": "stdout",
     "output_type": "stream",
     "text": [
      "\n"
     ]
    },
    {
     "data": {
      "application/vnd.jupyter.widget-view+json": {
       "model_id": "fffa8c3bbbfe43e0aca3fb4e3458d442",
       "version_major": 2,
       "version_minor": 0
      },
      "text/plain": [
       "HBox(children=(IntProgress(value=0, description='Testing GO_mut:(levy1_extension)_cro:uni2', max=1000, style=P…"
      ]
     },
     "metadata": {},
     "output_type": "display_data"
    },
    {
     "name": "stdout",
     "output_type": "stream",
     "text": [
      "\n"
     ]
    },
    {
     "data": {
      "application/vnd.jupyter.widget-view+json": {
       "model_id": "4bebc13182e748cb974e3ac7a7066a74",
       "version_major": 2,
       "version_minor": 0
      },
      "text/plain": [
       "HBox(children=(IntProgress(value=0, description='Testing GO_mut:(cauchy3_vanilla)_cro:uni2', max=1000, style=P…"
      ]
     },
     "metadata": {},
     "output_type": "display_data"
    },
    {
     "name": "stdout",
     "output_type": "stream",
     "text": [
      "\n"
     ]
    },
    {
     "data": {
      "application/vnd.jupyter.widget-view+json": {
       "model_id": "20c0b9f08fa14962bd758581d43c51f8",
       "version_major": 2,
       "version_minor": 0
      },
      "text/plain": [
       "HBox(children=(IntProgress(value=0, description='Testing GO_mut:(levy3_vanilla)_cro:uni2', max=1000, style=Pro…"
      ]
     },
     "metadata": {},
     "output_type": "display_data"
    },
    {
     "name": "stdout",
     "output_type": "stream",
     "text": [
      "\n"
     ]
    },
    {
     "data": {
      "application/vnd.jupyter.widget-view+json": {
       "model_id": "4bd904ac4f53421ab46c4e613e70b1ad",
       "version_major": 2,
       "version_minor": 0
      },
      "text/plain": [
       "HBox(children=(IntProgress(value=0, description='Testing GO_mut:(cauchy3_mirror)_cro:uni2', max=1000, style=Pr…"
      ]
     },
     "metadata": {},
     "output_type": "display_data"
    },
    {
     "name": "stdout",
     "output_type": "stream",
     "text": [
      "\n"
     ]
    },
    {
     "data": {
      "application/vnd.jupyter.widget-view+json": {
       "model_id": "5b471cbbb1f2493ba3ddf2d9a1da4e1e",
       "version_major": 2,
       "version_minor": 0
      },
      "text/plain": [
       "HBox(children=(IntProgress(value=0, description='Testing GO_mut:(levy3_mirror)_cro:uni2', max=1000, style=Prog…"
      ]
     },
     "metadata": {},
     "output_type": "display_data"
    },
    {
     "name": "stdout",
     "output_type": "stream",
     "text": [
      "\n"
     ]
    },
    {
     "data": {
      "application/vnd.jupyter.widget-view+json": {
       "model_id": "429fd2b63900491b90a0b0cd4ffc3759",
       "version_major": 2,
       "version_minor": 0
      },
      "text/plain": [
       "HBox(children=(IntProgress(value=0, description='Testing GO_mut:(cauchy3_extension)_cro:uni2', max=1000, style…"
      ]
     },
     "metadata": {},
     "output_type": "display_data"
    },
    {
     "name": "stdout",
     "output_type": "stream",
     "text": [
      "\n"
     ]
    },
    {
     "data": {
      "application/vnd.jupyter.widget-view+json": {
       "model_id": "edbe3ca0fdb94162be26c1d9ba4d1c11",
       "version_major": 2,
       "version_minor": 0
      },
      "text/plain": [
       "HBox(children=(IntProgress(value=0, description='Testing GO_mut:(levy3_extension)_cro:uni2', max=1000, style=P…"
      ]
     },
     "metadata": {},
     "output_type": "display_data"
    },
    {
     "name": "stdout",
     "output_type": "stream",
     "text": [
      "\n"
     ]
    },
    {
     "data": {
      "application/vnd.jupyter.widget-view+json": {
       "model_id": "b5946ed9410743a9a9ee2500ab3791d4",
       "version_major": 2,
       "version_minor": 0
      },
      "text/plain": [
       "HBox(children=(IntProgress(value=0, description='Testing GO_mut:(cauchy5_vanilla)_cro:uni2', max=1000, style=P…"
      ]
     },
     "metadata": {},
     "output_type": "display_data"
    },
    {
     "name": "stdout",
     "output_type": "stream",
     "text": [
      "\n"
     ]
    },
    {
     "data": {
      "application/vnd.jupyter.widget-view+json": {
       "model_id": "9621fb1c31804e1ab85a210c18ef0735",
       "version_major": 2,
       "version_minor": 0
      },
      "text/plain": [
       "HBox(children=(IntProgress(value=0, description='Testing GO_mut:(levy5_vanilla)_cro:uni2', max=1000, style=Pro…"
      ]
     },
     "metadata": {},
     "output_type": "display_data"
    },
    {
     "name": "stdout",
     "output_type": "stream",
     "text": [
      "\n"
     ]
    },
    {
     "data": {
      "application/vnd.jupyter.widget-view+json": {
       "model_id": "7f1033ebe9e545f6bb7c755ccfd7c59e",
       "version_major": 2,
       "version_minor": 0
      },
      "text/plain": [
       "HBox(children=(IntProgress(value=0, description='Testing GO_mut:(cauchy5_mirror)_cro:uni2', max=1000, style=Pr…"
      ]
     },
     "metadata": {},
     "output_type": "display_data"
    },
    {
     "name": "stdout",
     "output_type": "stream",
     "text": [
      "\n"
     ]
    },
    {
     "data": {
      "application/vnd.jupyter.widget-view+json": {
       "model_id": "f8b6a90f20f441d0b2b59e949f40c33c",
       "version_major": 2,
       "version_minor": 0
      },
      "text/plain": [
       "HBox(children=(IntProgress(value=0, description='Testing GO_mut:(levy5_mirror)_cro:uni2', max=1000, style=Prog…"
      ]
     },
     "metadata": {},
     "output_type": "display_data"
    },
    {
     "name": "stdout",
     "output_type": "stream",
     "text": [
      "\n"
     ]
    },
    {
     "data": {
      "application/vnd.jupyter.widget-view+json": {
       "model_id": "6038b050d0c04eb08eedaead6373d8b1",
       "version_major": 2,
       "version_minor": 0
      },
      "text/plain": [
       "HBox(children=(IntProgress(value=0, description='Testing GO_mut:(cauchy5_extension)_cro:uni2', max=1000, style…"
      ]
     },
     "metadata": {},
     "output_type": "display_data"
    },
    {
     "name": "stdout",
     "output_type": "stream",
     "text": [
      "\n"
     ]
    },
    {
     "data": {
      "application/vnd.jupyter.widget-view+json": {
       "model_id": "3be6ca15625f4cc39092dd397a46cb7c",
       "version_major": 2,
       "version_minor": 0
      },
      "text/plain": [
       "HBox(children=(IntProgress(value=0, description='Testing GO_mut:(levy5_extension)_cro:uni2', max=1000, style=P…"
      ]
     },
     "metadata": {},
     "output_type": "display_data"
    },
    {
     "name": "stdout",
     "output_type": "stream",
     "text": [
      "\n"
     ]
    },
    {
     "data": {
      "application/vnd.jupyter.widget-view+json": {
       "model_id": "85c75f6452424d6c85696ebea57ff06d",
       "version_major": 2,
       "version_minor": 0
      },
      "text/plain": [
       "HBox(children=(IntProgress(value=0, description='Testing GO_mut:(cauchy1_vanilla)_cro:uni3', max=1000, style=P…"
      ]
     },
     "metadata": {},
     "output_type": "display_data"
    },
    {
     "name": "stdout",
     "output_type": "stream",
     "text": [
      "\n"
     ]
    },
    {
     "data": {
      "application/vnd.jupyter.widget-view+json": {
       "model_id": "e1fabcced89f4218bd814c24a5e10005",
       "version_major": 2,
       "version_minor": 0
      },
      "text/plain": [
       "HBox(children=(IntProgress(value=0, description='Testing GO_mut:(levy1_vanilla)_cro:uni3', max=1000, style=Pro…"
      ]
     },
     "metadata": {},
     "output_type": "display_data"
    },
    {
     "name": "stdout",
     "output_type": "stream",
     "text": [
      "\n"
     ]
    },
    {
     "data": {
      "application/vnd.jupyter.widget-view+json": {
       "model_id": "ccceec8cffb149379efb2998462548e6",
       "version_major": 2,
       "version_minor": 0
      },
      "text/plain": [
       "HBox(children=(IntProgress(value=0, description='Testing GO_mut:(cauchy1_mirror)_cro:uni3', max=1000, style=Pr…"
      ]
     },
     "metadata": {},
     "output_type": "display_data"
    },
    {
     "name": "stdout",
     "output_type": "stream",
     "text": [
      "\n"
     ]
    },
    {
     "data": {
      "application/vnd.jupyter.widget-view+json": {
       "model_id": "68514c68242e4b29a3ac8ababcb8f9b3",
       "version_major": 2,
       "version_minor": 0
      },
      "text/plain": [
       "HBox(children=(IntProgress(value=0, description='Testing GO_mut:(levy1_mirror)_cro:uni3', max=1000, style=Prog…"
      ]
     },
     "metadata": {},
     "output_type": "display_data"
    },
    {
     "name": "stdout",
     "output_type": "stream",
     "text": [
      "\n"
     ]
    },
    {
     "data": {
      "application/vnd.jupyter.widget-view+json": {
       "model_id": "2d76190b6f7b47159b23cb1e0f778cc2",
       "version_major": 2,
       "version_minor": 0
      },
      "text/plain": [
       "HBox(children=(IntProgress(value=0, description='Testing GO_mut:(cauchy1_extension)_cro:uni3', max=1000, style…"
      ]
     },
     "metadata": {},
     "output_type": "display_data"
    },
    {
     "name": "stdout",
     "output_type": "stream",
     "text": [
      "\n"
     ]
    },
    {
     "data": {
      "application/vnd.jupyter.widget-view+json": {
       "model_id": "5935b7a6c18b451a8a5177de5f205b49",
       "version_major": 2,
       "version_minor": 0
      },
      "text/plain": [
       "HBox(children=(IntProgress(value=0, description='Testing GO_mut:(levy1_extension)_cro:uni3', max=1000, style=P…"
      ]
     },
     "metadata": {},
     "output_type": "display_data"
    },
    {
     "name": "stdout",
     "output_type": "stream",
     "text": [
      "\n"
     ]
    },
    {
     "data": {
      "application/vnd.jupyter.widget-view+json": {
       "model_id": "c5b0bc5e631349d48ab30b14a02f59ba",
       "version_major": 2,
       "version_minor": 0
      },
      "text/plain": [
       "HBox(children=(IntProgress(value=0, description='Testing GO_mut:(cauchy3_vanilla)_cro:uni3', max=1000, style=P…"
      ]
     },
     "metadata": {},
     "output_type": "display_data"
    },
    {
     "name": "stdout",
     "output_type": "stream",
     "text": [
      "\n"
     ]
    },
    {
     "data": {
      "application/vnd.jupyter.widget-view+json": {
       "model_id": "22cdc66e00a741708e60ad13b3745e85",
       "version_major": 2,
       "version_minor": 0
      },
      "text/plain": [
       "HBox(children=(IntProgress(value=0, description='Testing GO_mut:(levy3_vanilla)_cro:uni3', max=1000, style=Pro…"
      ]
     },
     "metadata": {},
     "output_type": "display_data"
    },
    {
     "name": "stdout",
     "output_type": "stream",
     "text": [
      "\n"
     ]
    },
    {
     "data": {
      "application/vnd.jupyter.widget-view+json": {
       "model_id": "930aad55c2564b259af09eefbde6c0b1",
       "version_major": 2,
       "version_minor": 0
      },
      "text/plain": [
       "HBox(children=(IntProgress(value=0, description='Testing GO_mut:(cauchy3_mirror)_cro:uni3', max=1000, style=Pr…"
      ]
     },
     "metadata": {},
     "output_type": "display_data"
    },
    {
     "name": "stdout",
     "output_type": "stream",
     "text": [
      "\n"
     ]
    },
    {
     "data": {
      "application/vnd.jupyter.widget-view+json": {
       "model_id": "85fa7926c3394b43b49858011a102ff6",
       "version_major": 2,
       "version_minor": 0
      },
      "text/plain": [
       "HBox(children=(IntProgress(value=0, description='Testing GO_mut:(levy3_mirror)_cro:uni3', max=1000, style=Prog…"
      ]
     },
     "metadata": {},
     "output_type": "display_data"
    },
    {
     "name": "stdout",
     "output_type": "stream",
     "text": [
      "\n"
     ]
    },
    {
     "data": {
      "application/vnd.jupyter.widget-view+json": {
       "model_id": "15297ac1ce764253b3a7327066a94561",
       "version_major": 2,
       "version_minor": 0
      },
      "text/plain": [
       "HBox(children=(IntProgress(value=0, description='Testing GO_mut:(cauchy3_extension)_cro:uni3', max=1000, style…"
      ]
     },
     "metadata": {},
     "output_type": "display_data"
    },
    {
     "name": "stdout",
     "output_type": "stream",
     "text": [
      "\n"
     ]
    },
    {
     "data": {
      "application/vnd.jupyter.widget-view+json": {
       "model_id": "66b9d0acfce5416996047431fe426715",
       "version_major": 2,
       "version_minor": 0
      },
      "text/plain": [
       "HBox(children=(IntProgress(value=0, description='Testing GO_mut:(levy3_extension)_cro:uni3', max=1000, style=P…"
      ]
     },
     "metadata": {},
     "output_type": "display_data"
    },
    {
     "name": "stdout",
     "output_type": "stream",
     "text": [
      "\n"
     ]
    },
    {
     "data": {
      "application/vnd.jupyter.widget-view+json": {
       "model_id": "40dd8ec8c600471589d021a73be7d0af",
       "version_major": 2,
       "version_minor": 0
      },
      "text/plain": [
       "HBox(children=(IntProgress(value=0, description='Testing GO_mut:(cauchy5_vanilla)_cro:uni3', max=1000, style=P…"
      ]
     },
     "metadata": {},
     "output_type": "display_data"
    },
    {
     "name": "stdout",
     "output_type": "stream",
     "text": [
      "\n"
     ]
    },
    {
     "data": {
      "application/vnd.jupyter.widget-view+json": {
       "model_id": "3ea17c3a7a7b43609366a1a3013cb8b8",
       "version_major": 2,
       "version_minor": 0
      },
      "text/plain": [
       "HBox(children=(IntProgress(value=0, description='Testing GO_mut:(levy5_vanilla)_cro:uni3', max=1000, style=Pro…"
      ]
     },
     "metadata": {},
     "output_type": "display_data"
    },
    {
     "name": "stdout",
     "output_type": "stream",
     "text": [
      "\n"
     ]
    },
    {
     "data": {
      "application/vnd.jupyter.widget-view+json": {
       "model_id": "02189c0a251c464ca59eb20ec5420cd1",
       "version_major": 2,
       "version_minor": 0
      },
      "text/plain": [
       "HBox(children=(IntProgress(value=0, description='Testing GO_mut:(cauchy5_mirror)_cro:uni3', max=1000, style=Pr…"
      ]
     },
     "metadata": {},
     "output_type": "display_data"
    },
    {
     "name": "stdout",
     "output_type": "stream",
     "text": [
      "\n"
     ]
    },
    {
     "data": {
      "application/vnd.jupyter.widget-view+json": {
       "model_id": "f6b2917e2e0c4fb7ae7d95d433ff51c1",
       "version_major": 2,
       "version_minor": 0
      },
      "text/plain": [
       "HBox(children=(IntProgress(value=0, description='Testing GO_mut:(levy5_mirror)_cro:uni3', max=1000, style=Prog…"
      ]
     },
     "metadata": {},
     "output_type": "display_data"
    },
    {
     "name": "stdout",
     "output_type": "stream",
     "text": [
      "\n"
     ]
    },
    {
     "data": {
      "application/vnd.jupyter.widget-view+json": {
       "model_id": "3d772fae9e2143a3a23994b0b50ed463",
       "version_major": 2,
       "version_minor": 0
      },
      "text/plain": [
       "HBox(children=(IntProgress(value=0, description='Testing GO_mut:(cauchy5_extension)_cro:uni3', max=1000, style…"
      ]
     },
     "metadata": {},
     "output_type": "display_data"
    },
    {
     "name": "stdout",
     "output_type": "stream",
     "text": [
      "\n"
     ]
    },
    {
     "data": {
      "application/vnd.jupyter.widget-view+json": {
       "model_id": "3607d2a98c70456da65cc86317564921",
       "version_major": 2,
       "version_minor": 0
      },
      "text/plain": [
       "HBox(children=(IntProgress(value=0, description='Testing GO_mut:(levy5_extension)_cro:uni3', max=1000, style=P…"
      ]
     },
     "metadata": {},
     "output_type": "display_data"
    },
    {
     "name": "stdout",
     "output_type": "stream",
     "text": [
      "\n"
     ]
    }
   ],
   "source": [
    "results = pd.DataFrame()\n",
    "for crossover in crossovers:\n",
    "    for mutation in mutations:\n",
    "        heur_name = 'GO_mut:({})_cro:{}'.format(mutation['name'], crossover['name'])\n",
    "        runs = []\n",
    "        for i in tqdm_notebook(range(NUM_RUNS), 'Testing {}'.format(heur_name)):\n",
    "            run = GeneticOptimization(tsp, maxeval, N=5, M=15, Tsel1=1.0, Tsel2=0.5, \n",
    "                                      mutation=mutation['mutation'],\n",
    "                                      crossover=crossover['crossover']).search()\n",
    "            run['run'] = i\n",
    "            run['heur'] = heur_name\n",
    "            run['mutation'] = mutation['name']\n",
    "            run['crossover'] = crossover['name']\n",
    "            runs.append(run)\n",
    "\n",
    "        res_df = pd.DataFrame(runs, columns=['heur', 'run', 'mutation', 'crossover','best_x', 'best_y', 'neval'])\n",
    "        results = pd.concat([results, res_df], axis=0)"
   ]
  },
  {
   "cell_type": "code",
   "execution_count": 9,
   "metadata": {
    "scrolled": true
   },
   "outputs": [
    {
     "data": {
      "text/html": [
       "<div>\n",
       "<style scoped>\n",
       "    .dataframe tbody tr th:only-of-type {\n",
       "        vertical-align: middle;\n",
       "    }\n",
       "\n",
       "    .dataframe tbody tr th {\n",
       "        vertical-align: top;\n",
       "    }\n",
       "\n",
       "    .dataframe thead th {\n",
       "        text-align: right;\n",
       "    }\n",
       "</style>\n",
       "<table border=\"1\" class=\"dataframe\">\n",
       "  <thead>\n",
       "    <tr style=\"text-align: right;\">\n",
       "      <th></th>\n",
       "      <th>heur</th>\n",
       "      <th>mutation</th>\n",
       "      <th>crossover</th>\n",
       "      <th>feo</th>\n",
       "      <th>mne</th>\n",
       "      <th>rel</th>\n",
       "    </tr>\n",
       "  </thead>\n",
       "  <tbody>\n",
       "    <tr>\n",
       "      <th>12</th>\n",
       "      <td>GO_mut:(cauchy1_vanilla)_cro:uni1</td>\n",
       "      <td>cauchy1_vanilla</td>\n",
       "      <td>uni1</td>\n",
       "      <td>258.822820</td>\n",
       "      <td>57.717489</td>\n",
       "      <td>0.223</td>\n",
       "    </tr>\n",
       "    <tr>\n",
       "      <th>13</th>\n",
       "      <td>GO_mut:(cauchy1_vanilla)_cro:uni2</td>\n",
       "      <td>cauchy1_vanilla</td>\n",
       "      <td>uni2</td>\n",
       "      <td>276.606346</td>\n",
       "      <td>61.959821</td>\n",
       "      <td>0.224</td>\n",
       "    </tr>\n",
       "    <tr>\n",
       "      <th>14</th>\n",
       "      <td>GO_mut:(cauchy1_vanilla)_cro:uni3</td>\n",
       "      <td>cauchy1_vanilla</td>\n",
       "      <td>uni3</td>\n",
       "      <td>300.709111</td>\n",
       "      <td>59.540404</td>\n",
       "      <td>0.198</td>\n",
       "    </tr>\n",
       "    <tr>\n",
       "      <th>10</th>\n",
       "      <td>GO_mut:(cauchy1_vanilla)_cro:mix</td>\n",
       "      <td>cauchy1_vanilla</td>\n",
       "      <td>mix</td>\n",
       "      <td>304.325000</td>\n",
       "      <td>60.865000</td>\n",
       "      <td>0.200</td>\n",
       "    </tr>\n",
       "    <tr>\n",
       "      <th>11</th>\n",
       "      <td>GO_mut:(cauchy1_vanilla)_cro:rnd</td>\n",
       "      <td>cauchy1_vanilla</td>\n",
       "      <td>rnd</td>\n",
       "      <td>308.778355</td>\n",
       "      <td>56.815217</td>\n",
       "      <td>0.184</td>\n",
       "    </tr>\n",
       "    <tr>\n",
       "      <th>28</th>\n",
       "      <td>GO_mut:(cauchy3_vanilla)_cro:uni2</td>\n",
       "      <td>cauchy3_vanilla</td>\n",
       "      <td>uni2</td>\n",
       "      <td>318.806689</td>\n",
       "      <td>53.559524</td>\n",
       "      <td>0.168</td>\n",
       "    </tr>\n",
       "    <tr>\n",
       "      <th>57</th>\n",
       "      <td>GO_mut:(levy1_vanilla)_cro:uni1</td>\n",
       "      <td>levy1_vanilla</td>\n",
       "      <td>uni1</td>\n",
       "      <td>327.753415</td>\n",
       "      <td>50.474026</td>\n",
       "      <td>0.154</td>\n",
       "    </tr>\n",
       "    <tr>\n",
       "      <th>25</th>\n",
       "      <td>GO_mut:(cauchy3_vanilla)_cro:mix</td>\n",
       "      <td>cauchy3_vanilla</td>\n",
       "      <td>mix</td>\n",
       "      <td>333.112948</td>\n",
       "      <td>54.963636</td>\n",
       "      <td>0.165</td>\n",
       "    </tr>\n",
       "    <tr>\n",
       "      <th>26</th>\n",
       "      <td>GO_mut:(cauchy3_vanilla)_cro:rnd</td>\n",
       "      <td>cauchy3_vanilla</td>\n",
       "      <td>rnd</td>\n",
       "      <td>355.632110</td>\n",
       "      <td>56.189873</td>\n",
       "      <td>0.158</td>\n",
       "    </tr>\n",
       "    <tr>\n",
       "      <th>27</th>\n",
       "      <td>GO_mut:(cauchy3_vanilla)_cro:uni1</td>\n",
       "      <td>cauchy3_vanilla</td>\n",
       "      <td>uni1</td>\n",
       "      <td>361.022095</td>\n",
       "      <td>55.597403</td>\n",
       "      <td>0.154</td>\n",
       "    </tr>\n",
       "    <tr>\n",
       "      <th>58</th>\n",
       "      <td>GO_mut:(levy1_vanilla)_cro:uni2</td>\n",
       "      <td>levy1_vanilla</td>\n",
       "      <td>uni2</td>\n",
       "      <td>370.850969</td>\n",
       "      <td>49.694030</td>\n",
       "      <td>0.134</td>\n",
       "    </tr>\n",
       "    <tr>\n",
       "      <th>29</th>\n",
       "      <td>GO_mut:(cauchy3_vanilla)_cro:uni3</td>\n",
       "      <td>cauchy3_vanilla</td>\n",
       "      <td>uni3</td>\n",
       "      <td>382.893324</td>\n",
       "      <td>50.924812</td>\n",
       "      <td>0.133</td>\n",
       "    </tr>\n",
       "    <tr>\n",
       "      <th>59</th>\n",
       "      <td>GO_mut:(levy1_vanilla)_cro:uni3</td>\n",
       "      <td>levy1_vanilla</td>\n",
       "      <td>uni3</td>\n",
       "      <td>387.434842</td>\n",
       "      <td>52.303704</td>\n",
       "      <td>0.135</td>\n",
       "    </tr>\n",
       "    <tr>\n",
       "      <th>56</th>\n",
       "      <td>GO_mut:(levy1_vanilla)_cro:rnd</td>\n",
       "      <td>levy1_vanilla</td>\n",
       "      <td>rnd</td>\n",
       "      <td>409.036799</td>\n",
       "      <td>56.856115</td>\n",
       "      <td>0.139</td>\n",
       "    </tr>\n",
       "    <tr>\n",
       "      <th>41</th>\n",
       "      <td>GO_mut:(cauchy5_vanilla)_cro:rnd</td>\n",
       "      <td>cauchy5_vanilla</td>\n",
       "      <td>rnd</td>\n",
       "      <td>409.808073</td>\n",
       "      <td>49.586777</td>\n",
       "      <td>0.121</td>\n",
       "    </tr>\n",
       "    <tr>\n",
       "      <th>44</th>\n",
       "      <td>GO_mut:(cauchy5_vanilla)_cro:uni3</td>\n",
       "      <td>cauchy5_vanilla</td>\n",
       "      <td>uni3</td>\n",
       "      <td>420.042438</td>\n",
       "      <td>60.486111</td>\n",
       "      <td>0.144</td>\n",
       "    </tr>\n",
       "    <tr>\n",
       "      <th>43</th>\n",
       "      <td>GO_mut:(cauchy5_vanilla)_cro:uni2</td>\n",
       "      <td>cauchy5_vanilla</td>\n",
       "      <td>uni2</td>\n",
       "      <td>425.988914</td>\n",
       "      <td>53.674603</td>\n",
       "      <td>0.126</td>\n",
       "    </tr>\n",
       "    <tr>\n",
       "      <th>42</th>\n",
       "      <td>GO_mut:(cauchy5_vanilla)_cro:uni1</td>\n",
       "      <td>cauchy5_vanilla</td>\n",
       "      <td>uni1</td>\n",
       "      <td>450.062793</td>\n",
       "      <td>55.357724</td>\n",
       "      <td>0.123</td>\n",
       "    </tr>\n",
       "    <tr>\n",
       "      <th>55</th>\n",
       "      <td>GO_mut:(levy1_vanilla)_cro:mix</td>\n",
       "      <td>levy1_vanilla</td>\n",
       "      <td>mix</td>\n",
       "      <td>464.445153</td>\n",
       "      <td>52.017857</td>\n",
       "      <td>0.112</td>\n",
       "    </tr>\n",
       "    <tr>\n",
       "      <th>40</th>\n",
       "      <td>GO_mut:(cauchy5_vanilla)_cro:mix</td>\n",
       "      <td>cauchy5_vanilla</td>\n",
       "      <td>mix</td>\n",
       "      <td>468.874280</td>\n",
       "      <td>52.045045</td>\n",
       "      <td>0.111</td>\n",
       "    </tr>\n",
       "    <tr>\n",
       "      <th>2</th>\n",
       "      <td>GO_mut:(cauchy1_extension)_cro:uni1</td>\n",
       "      <td>cauchy1_extension</td>\n",
       "      <td>uni1</td>\n",
       "      <td>648.367347</td>\n",
       "      <td>45.385714</td>\n",
       "      <td>0.070</td>\n",
       "    </tr>\n",
       "    <tr>\n",
       "      <th>0</th>\n",
       "      <td>GO_mut:(cauchy1_extension)_cro:mix</td>\n",
       "      <td>cauchy1_extension</td>\n",
       "      <td>mix</td>\n",
       "      <td>769.881934</td>\n",
       "      <td>51.582090</td>\n",
       "      <td>0.067</td>\n",
       "    </tr>\n",
       "    <tr>\n",
       "      <th>4</th>\n",
       "      <td>GO_mut:(cauchy1_extension)_cro:uni3</td>\n",
       "      <td>cauchy1_extension</td>\n",
       "      <td>uni3</td>\n",
       "      <td>775.878906</td>\n",
       "      <td>49.656250</td>\n",
       "      <td>0.064</td>\n",
       "    </tr>\n",
       "    <tr>\n",
       "      <th>3</th>\n",
       "      <td>GO_mut:(cauchy1_extension)_cro:uni2</td>\n",
       "      <td>cauchy1_extension</td>\n",
       "      <td>uni2</td>\n",
       "      <td>794.444444</td>\n",
       "      <td>47.666667</td>\n",
       "      <td>0.060</td>\n",
       "    </tr>\n",
       "    <tr>\n",
       "      <th>78</th>\n",
       "      <td>GO_mut:(levy5_extension)_cro:uni2</td>\n",
       "      <td>levy5_extension</td>\n",
       "      <td>uni2</td>\n",
       "      <td>998.582231</td>\n",
       "      <td>45.934783</td>\n",
       "      <td>0.046</td>\n",
       "    </tr>\n",
       "    <tr>\n",
       "      <th>72</th>\n",
       "      <td>GO_mut:(levy3_vanilla)_cro:uni1</td>\n",
       "      <td>levy3_vanilla</td>\n",
       "      <td>uni1</td>\n",
       "      <td>1065.187868</td>\n",
       "      <td>50.063830</td>\n",
       "      <td>0.047</td>\n",
       "    </tr>\n",
       "    <tr>\n",
       "      <th>1</th>\n",
       "      <td>GO_mut:(cauchy1_extension)_cro:rnd</td>\n",
       "      <td>cauchy1_extension</td>\n",
       "      <td>rnd</td>\n",
       "      <td>1069.204152</td>\n",
       "      <td>54.529412</td>\n",
       "      <td>0.051</td>\n",
       "    </tr>\n",
       "    <tr>\n",
       "      <th>34</th>\n",
       "      <td>GO_mut:(cauchy5_extension)_cro:uni3</td>\n",
       "      <td>cauchy5_extension</td>\n",
       "      <td>uni3</td>\n",
       "      <td>1073.784722</td>\n",
       "      <td>51.541667</td>\n",
       "      <td>0.048</td>\n",
       "    </tr>\n",
       "    <tr>\n",
       "      <th>9</th>\n",
       "      <td>GO_mut:(cauchy1_mirror)_cro:uni3</td>\n",
       "      <td>cauchy1_mirror</td>\n",
       "      <td>uni3</td>\n",
       "      <td>1098.079561</td>\n",
       "      <td>59.296296</td>\n",
       "      <td>0.054</td>\n",
       "    </tr>\n",
       "    <tr>\n",
       "      <th>7</th>\n",
       "      <td>GO_mut:(cauchy1_mirror)_cro:uni1</td>\n",
       "      <td>cauchy1_mirror</td>\n",
       "      <td>uni1</td>\n",
       "      <td>1113.919544</td>\n",
       "      <td>59.037736</td>\n",
       "      <td>0.053</td>\n",
       "    </tr>\n",
       "    <tr>\n",
       "      <th>...</th>\n",
       "      <td>...</td>\n",
       "      <td>...</td>\n",
       "      <td>...</td>\n",
       "      <td>...</td>\n",
       "      <td>...</td>\n",
       "      <td>...</td>\n",
       "    </tr>\n",
       "    <tr>\n",
       "      <th>46</th>\n",
       "      <td>GO_mut:(levy1_extension)_cro:rnd</td>\n",
       "      <td>levy1_extension</td>\n",
       "      <td>rnd</td>\n",
       "      <td>1563.995838</td>\n",
       "      <td>48.483871</td>\n",
       "      <td>0.031</td>\n",
       "    </tr>\n",
       "    <tr>\n",
       "      <th>61</th>\n",
       "      <td>GO_mut:(levy3_extension)_cro:rnd</td>\n",
       "      <td>levy3_extension</td>\n",
       "      <td>rnd</td>\n",
       "      <td>1579.101562</td>\n",
       "      <td>50.531250</td>\n",
       "      <td>0.032</td>\n",
       "    </tr>\n",
       "    <tr>\n",
       "      <th>86</th>\n",
       "      <td>GO_mut:(levy5_vanilla)_cro:rnd</td>\n",
       "      <td>levy5_vanilla</td>\n",
       "      <td>rnd</td>\n",
       "      <td>1625.555556</td>\n",
       "      <td>48.766667</td>\n",
       "      <td>0.030</td>\n",
       "    </tr>\n",
       "    <tr>\n",
       "      <th>22</th>\n",
       "      <td>GO_mut:(cauchy3_mirror)_cro:uni1</td>\n",
       "      <td>cauchy3_mirror</td>\n",
       "      <td>uni1</td>\n",
       "      <td>1630.102041</td>\n",
       "      <td>45.642857</td>\n",
       "      <td>0.028</td>\n",
       "    </tr>\n",
       "    <tr>\n",
       "      <th>21</th>\n",
       "      <td>GO_mut:(cauchy3_mirror)_cro:rnd</td>\n",
       "      <td>cauchy3_mirror</td>\n",
       "      <td>rnd</td>\n",
       "      <td>1633.744856</td>\n",
       "      <td>44.111111</td>\n",
       "      <td>0.027</td>\n",
       "    </tr>\n",
       "    <tr>\n",
       "      <th>73</th>\n",
       "      <td>GO_mut:(levy3_vanilla)_cro:uni2</td>\n",
       "      <td>levy3_vanilla</td>\n",
       "      <td>uni2</td>\n",
       "      <td>1659.169550</td>\n",
       "      <td>56.411765</td>\n",
       "      <td>0.034</td>\n",
       "    </tr>\n",
       "    <tr>\n",
       "      <th>85</th>\n",
       "      <td>GO_mut:(levy5_vanilla)_cro:mix</td>\n",
       "      <td>levy5_vanilla</td>\n",
       "      <td>mix</td>\n",
       "      <td>1665.972945</td>\n",
       "      <td>51.645161</td>\n",
       "      <td>0.031</td>\n",
       "    </tr>\n",
       "    <tr>\n",
       "      <th>16</th>\n",
       "      <td>GO_mut:(cauchy3_extension)_cro:rnd</td>\n",
       "      <td>cauchy3_extension</td>\n",
       "      <td>rnd</td>\n",
       "      <td>1670.781893</td>\n",
       "      <td>45.111111</td>\n",
       "      <td>0.027</td>\n",
       "    </tr>\n",
       "    <tr>\n",
       "      <th>84</th>\n",
       "      <td>GO_mut:(levy5_mirror)_cro:uni3</td>\n",
       "      <td>levy5_mirror</td>\n",
       "      <td>uni3</td>\n",
       "      <td>1675.849403</td>\n",
       "      <td>55.303030</td>\n",
       "      <td>0.033</td>\n",
       "    </tr>\n",
       "    <tr>\n",
       "      <th>38</th>\n",
       "      <td>GO_mut:(cauchy5_mirror)_cro:uni2</td>\n",
       "      <td>cauchy5_mirror</td>\n",
       "      <td>uni2</td>\n",
       "      <td>1683.200000</td>\n",
       "      <td>42.080000</td>\n",
       "      <td>0.025</td>\n",
       "    </tr>\n",
       "    <tr>\n",
       "      <th>69</th>\n",
       "      <td>GO_mut:(levy3_mirror)_cro:uni3</td>\n",
       "      <td>levy3_mirror</td>\n",
       "      <td>uni3</td>\n",
       "      <td>1707.031250</td>\n",
       "      <td>54.625000</td>\n",
       "      <td>0.032</td>\n",
       "    </tr>\n",
       "    <tr>\n",
       "      <th>62</th>\n",
       "      <td>GO_mut:(levy3_extension)_cro:uni1</td>\n",
       "      <td>levy3_extension</td>\n",
       "      <td>uni1</td>\n",
       "      <td>1761.111111</td>\n",
       "      <td>52.833333</td>\n",
       "      <td>0.030</td>\n",
       "    </tr>\n",
       "    <tr>\n",
       "      <th>83</th>\n",
       "      <td>GO_mut:(levy5_mirror)_cro:uni2</td>\n",
       "      <td>levy5_mirror</td>\n",
       "      <td>uni2</td>\n",
       "      <td>1761.706556</td>\n",
       "      <td>54.612903</td>\n",
       "      <td>0.031</td>\n",
       "    </tr>\n",
       "    <tr>\n",
       "      <th>37</th>\n",
       "      <td>GO_mut:(cauchy5_mirror)_cro:uni1</td>\n",
       "      <td>cauchy5_mirror</td>\n",
       "      <td>uni1</td>\n",
       "      <td>1791.914388</td>\n",
       "      <td>51.965517</td>\n",
       "      <td>0.029</td>\n",
       "    </tr>\n",
       "    <tr>\n",
       "      <th>82</th>\n",
       "      <td>GO_mut:(levy5_mirror)_cro:uni1</td>\n",
       "      <td>levy5_mirror</td>\n",
       "      <td>uni1</td>\n",
       "      <td>1886.094675</td>\n",
       "      <td>49.038462</td>\n",
       "      <td>0.026</td>\n",
       "    </tr>\n",
       "    <tr>\n",
       "      <th>64</th>\n",
       "      <td>GO_mut:(levy3_extension)_cro:uni3</td>\n",
       "      <td>levy3_extension</td>\n",
       "      <td>uni3</td>\n",
       "      <td>1934.948980</td>\n",
       "      <td>54.178571</td>\n",
       "      <td>0.028</td>\n",
       "    </tr>\n",
       "    <tr>\n",
       "      <th>35</th>\n",
       "      <td>GO_mut:(cauchy5_mirror)_cro:mix</td>\n",
       "      <td>cauchy5_mirror</td>\n",
       "      <td>mix</td>\n",
       "      <td>1940.082645</td>\n",
       "      <td>42.681818</td>\n",
       "      <td>0.022</td>\n",
       "    </tr>\n",
       "    <tr>\n",
       "      <th>52</th>\n",
       "      <td>GO_mut:(levy1_mirror)_cro:uni1</td>\n",
       "      <td>levy1_mirror</td>\n",
       "      <td>uni1</td>\n",
       "      <td>1960.059172</td>\n",
       "      <td>50.961538</td>\n",
       "      <td>0.026</td>\n",
       "    </tr>\n",
       "    <tr>\n",
       "      <th>47</th>\n",
       "      <td>GO_mut:(levy1_extension)_cro:uni1</td>\n",
       "      <td>levy1_extension</td>\n",
       "      <td>uni1</td>\n",
       "      <td>2006.198347</td>\n",
       "      <td>44.136364</td>\n",
       "      <td>0.022</td>\n",
       "    </tr>\n",
       "    <tr>\n",
       "      <th>80</th>\n",
       "      <td>GO_mut:(levy5_mirror)_cro:mix</td>\n",
       "      <td>levy5_mirror</td>\n",
       "      <td>mix</td>\n",
       "      <td>2068.047337</td>\n",
       "      <td>53.769231</td>\n",
       "      <td>0.026</td>\n",
       "    </tr>\n",
       "    <tr>\n",
       "      <th>20</th>\n",
       "      <td>GO_mut:(cauchy3_mirror)_cro:mix</td>\n",
       "      <td>cauchy3_mirror</td>\n",
       "      <td>mix</td>\n",
       "      <td>2104.166667</td>\n",
       "      <td>50.500000</td>\n",
       "      <td>0.024</td>\n",
       "    </tr>\n",
       "    <tr>\n",
       "      <th>24</th>\n",
       "      <td>GO_mut:(cauchy3_mirror)_cro:uni3</td>\n",
       "      <td>cauchy3_mirror</td>\n",
       "      <td>uni3</td>\n",
       "      <td>2255.208333</td>\n",
       "      <td>54.125000</td>\n",
       "      <td>0.024</td>\n",
       "    </tr>\n",
       "    <tr>\n",
       "      <th>23</th>\n",
       "      <td>GO_mut:(cauchy3_mirror)_cro:uni2</td>\n",
       "      <td>cauchy3_mirror</td>\n",
       "      <td>uni2</td>\n",
       "      <td>2425.000000</td>\n",
       "      <td>48.500000</td>\n",
       "      <td>0.020</td>\n",
       "    </tr>\n",
       "    <tr>\n",
       "      <th>36</th>\n",
       "      <td>GO_mut:(cauchy5_mirror)_cro:rnd</td>\n",
       "      <td>cauchy5_mirror</td>\n",
       "      <td>rnd</td>\n",
       "      <td>2555.555556</td>\n",
       "      <td>53.666667</td>\n",
       "      <td>0.021</td>\n",
       "    </tr>\n",
       "    <tr>\n",
       "      <th>68</th>\n",
       "      <td>GO_mut:(levy3_mirror)_cro:uni2</td>\n",
       "      <td>levy3_mirror</td>\n",
       "      <td>uni2</td>\n",
       "      <td>2666.666667</td>\n",
       "      <td>56.000000</td>\n",
       "      <td>0.021</td>\n",
       "    </tr>\n",
       "    <tr>\n",
       "      <th>50</th>\n",
       "      <td>GO_mut:(levy1_mirror)_cro:mix</td>\n",
       "      <td>levy1_mirror</td>\n",
       "      <td>mix</td>\n",
       "      <td>2742.222222</td>\n",
       "      <td>41.133333</td>\n",
       "      <td>0.015</td>\n",
       "    </tr>\n",
       "    <tr>\n",
       "      <th>67</th>\n",
       "      <td>GO_mut:(levy3_mirror)_cro:uni1</td>\n",
       "      <td>levy3_mirror</td>\n",
       "      <td>uni1</td>\n",
       "      <td>2869.806094</td>\n",
       "      <td>54.526316</td>\n",
       "      <td>0.019</td>\n",
       "    </tr>\n",
       "    <tr>\n",
       "      <th>39</th>\n",
       "      <td>GO_mut:(cauchy5_mirror)_cro:uni3</td>\n",
       "      <td>cauchy5_mirror</td>\n",
       "      <td>uni3</td>\n",
       "      <td>2875.432526</td>\n",
       "      <td>48.882353</td>\n",
       "      <td>0.017</td>\n",
       "    </tr>\n",
       "    <tr>\n",
       "      <th>51</th>\n",
       "      <td>GO_mut:(levy1_mirror)_cro:rnd</td>\n",
       "      <td>levy1_mirror</td>\n",
       "      <td>rnd</td>\n",
       "      <td>2880.886427</td>\n",
       "      <td>54.736842</td>\n",
       "      <td>0.019</td>\n",
       "    </tr>\n",
       "    <tr>\n",
       "      <th>53</th>\n",
       "      <td>GO_mut:(levy1_mirror)_cro:uni2</td>\n",
       "      <td>levy1_mirror</td>\n",
       "      <td>uni2</td>\n",
       "      <td>4515.306122</td>\n",
       "      <td>63.214286</td>\n",
       "      <td>0.014</td>\n",
       "    </tr>\n",
       "  </tbody>\n",
       "</table>\n",
       "<p>90 rows × 6 columns</p>\n",
       "</div>"
      ],
      "text/plain": [
       "                                   heur           mutation crossover  \\\n",
       "12    GO_mut:(cauchy1_vanilla)_cro:uni1    cauchy1_vanilla      uni1   \n",
       "13    GO_mut:(cauchy1_vanilla)_cro:uni2    cauchy1_vanilla      uni2   \n",
       "14    GO_mut:(cauchy1_vanilla)_cro:uni3    cauchy1_vanilla      uni3   \n",
       "10     GO_mut:(cauchy1_vanilla)_cro:mix    cauchy1_vanilla       mix   \n",
       "11     GO_mut:(cauchy1_vanilla)_cro:rnd    cauchy1_vanilla       rnd   \n",
       "28    GO_mut:(cauchy3_vanilla)_cro:uni2    cauchy3_vanilla      uni2   \n",
       "57      GO_mut:(levy1_vanilla)_cro:uni1      levy1_vanilla      uni1   \n",
       "25     GO_mut:(cauchy3_vanilla)_cro:mix    cauchy3_vanilla       mix   \n",
       "26     GO_mut:(cauchy3_vanilla)_cro:rnd    cauchy3_vanilla       rnd   \n",
       "27    GO_mut:(cauchy3_vanilla)_cro:uni1    cauchy3_vanilla      uni1   \n",
       "58      GO_mut:(levy1_vanilla)_cro:uni2      levy1_vanilla      uni2   \n",
       "29    GO_mut:(cauchy3_vanilla)_cro:uni3    cauchy3_vanilla      uni3   \n",
       "59      GO_mut:(levy1_vanilla)_cro:uni3      levy1_vanilla      uni3   \n",
       "56       GO_mut:(levy1_vanilla)_cro:rnd      levy1_vanilla       rnd   \n",
       "41     GO_mut:(cauchy5_vanilla)_cro:rnd    cauchy5_vanilla       rnd   \n",
       "44    GO_mut:(cauchy5_vanilla)_cro:uni3    cauchy5_vanilla      uni3   \n",
       "43    GO_mut:(cauchy5_vanilla)_cro:uni2    cauchy5_vanilla      uni2   \n",
       "42    GO_mut:(cauchy5_vanilla)_cro:uni1    cauchy5_vanilla      uni1   \n",
       "55       GO_mut:(levy1_vanilla)_cro:mix      levy1_vanilla       mix   \n",
       "40     GO_mut:(cauchy5_vanilla)_cro:mix    cauchy5_vanilla       mix   \n",
       "2   GO_mut:(cauchy1_extension)_cro:uni1  cauchy1_extension      uni1   \n",
       "0    GO_mut:(cauchy1_extension)_cro:mix  cauchy1_extension       mix   \n",
       "4   GO_mut:(cauchy1_extension)_cro:uni3  cauchy1_extension      uni3   \n",
       "3   GO_mut:(cauchy1_extension)_cro:uni2  cauchy1_extension      uni2   \n",
       "78    GO_mut:(levy5_extension)_cro:uni2    levy5_extension      uni2   \n",
       "72      GO_mut:(levy3_vanilla)_cro:uni1      levy3_vanilla      uni1   \n",
       "1    GO_mut:(cauchy1_extension)_cro:rnd  cauchy1_extension       rnd   \n",
       "34  GO_mut:(cauchy5_extension)_cro:uni3  cauchy5_extension      uni3   \n",
       "9      GO_mut:(cauchy1_mirror)_cro:uni3     cauchy1_mirror      uni3   \n",
       "7      GO_mut:(cauchy1_mirror)_cro:uni1     cauchy1_mirror      uni1   \n",
       "..                                  ...                ...       ...   \n",
       "46     GO_mut:(levy1_extension)_cro:rnd    levy1_extension       rnd   \n",
       "61     GO_mut:(levy3_extension)_cro:rnd    levy3_extension       rnd   \n",
       "86       GO_mut:(levy5_vanilla)_cro:rnd      levy5_vanilla       rnd   \n",
       "22     GO_mut:(cauchy3_mirror)_cro:uni1     cauchy3_mirror      uni1   \n",
       "21      GO_mut:(cauchy3_mirror)_cro:rnd     cauchy3_mirror       rnd   \n",
       "73      GO_mut:(levy3_vanilla)_cro:uni2      levy3_vanilla      uni2   \n",
       "85       GO_mut:(levy5_vanilla)_cro:mix      levy5_vanilla       mix   \n",
       "16   GO_mut:(cauchy3_extension)_cro:rnd  cauchy3_extension       rnd   \n",
       "84       GO_mut:(levy5_mirror)_cro:uni3       levy5_mirror      uni3   \n",
       "38     GO_mut:(cauchy5_mirror)_cro:uni2     cauchy5_mirror      uni2   \n",
       "69       GO_mut:(levy3_mirror)_cro:uni3       levy3_mirror      uni3   \n",
       "62    GO_mut:(levy3_extension)_cro:uni1    levy3_extension      uni1   \n",
       "83       GO_mut:(levy5_mirror)_cro:uni2       levy5_mirror      uni2   \n",
       "37     GO_mut:(cauchy5_mirror)_cro:uni1     cauchy5_mirror      uni1   \n",
       "82       GO_mut:(levy5_mirror)_cro:uni1       levy5_mirror      uni1   \n",
       "64    GO_mut:(levy3_extension)_cro:uni3    levy3_extension      uni3   \n",
       "35      GO_mut:(cauchy5_mirror)_cro:mix     cauchy5_mirror       mix   \n",
       "52       GO_mut:(levy1_mirror)_cro:uni1       levy1_mirror      uni1   \n",
       "47    GO_mut:(levy1_extension)_cro:uni1    levy1_extension      uni1   \n",
       "80        GO_mut:(levy5_mirror)_cro:mix       levy5_mirror       mix   \n",
       "20      GO_mut:(cauchy3_mirror)_cro:mix     cauchy3_mirror       mix   \n",
       "24     GO_mut:(cauchy3_mirror)_cro:uni3     cauchy3_mirror      uni3   \n",
       "23     GO_mut:(cauchy3_mirror)_cro:uni2     cauchy3_mirror      uni2   \n",
       "36      GO_mut:(cauchy5_mirror)_cro:rnd     cauchy5_mirror       rnd   \n",
       "68       GO_mut:(levy3_mirror)_cro:uni2       levy3_mirror      uni2   \n",
       "50        GO_mut:(levy1_mirror)_cro:mix       levy1_mirror       mix   \n",
       "67       GO_mut:(levy3_mirror)_cro:uni1       levy3_mirror      uni1   \n",
       "39     GO_mut:(cauchy5_mirror)_cro:uni3     cauchy5_mirror      uni3   \n",
       "51        GO_mut:(levy1_mirror)_cro:rnd       levy1_mirror       rnd   \n",
       "53       GO_mut:(levy1_mirror)_cro:uni2       levy1_mirror      uni2   \n",
       "\n",
       "            feo        mne    rel  \n",
       "12   258.822820  57.717489  0.223  \n",
       "13   276.606346  61.959821  0.224  \n",
       "14   300.709111  59.540404  0.198  \n",
       "10   304.325000  60.865000  0.200  \n",
       "11   308.778355  56.815217  0.184  \n",
       "28   318.806689  53.559524  0.168  \n",
       "57   327.753415  50.474026  0.154  \n",
       "25   333.112948  54.963636  0.165  \n",
       "26   355.632110  56.189873  0.158  \n",
       "27   361.022095  55.597403  0.154  \n",
       "58   370.850969  49.694030  0.134  \n",
       "29   382.893324  50.924812  0.133  \n",
       "59   387.434842  52.303704  0.135  \n",
       "56   409.036799  56.856115  0.139  \n",
       "41   409.808073  49.586777  0.121  \n",
       "44   420.042438  60.486111  0.144  \n",
       "43   425.988914  53.674603  0.126  \n",
       "42   450.062793  55.357724  0.123  \n",
       "55   464.445153  52.017857  0.112  \n",
       "40   468.874280  52.045045  0.111  \n",
       "2    648.367347  45.385714  0.070  \n",
       "0    769.881934  51.582090  0.067  \n",
       "4    775.878906  49.656250  0.064  \n",
       "3    794.444444  47.666667  0.060  \n",
       "78   998.582231  45.934783  0.046  \n",
       "72  1065.187868  50.063830  0.047  \n",
       "1   1069.204152  54.529412  0.051  \n",
       "34  1073.784722  51.541667  0.048  \n",
       "9   1098.079561  59.296296  0.054  \n",
       "7   1113.919544  59.037736  0.053  \n",
       "..          ...        ...    ...  \n",
       "46  1563.995838  48.483871  0.031  \n",
       "61  1579.101562  50.531250  0.032  \n",
       "86  1625.555556  48.766667  0.030  \n",
       "22  1630.102041  45.642857  0.028  \n",
       "21  1633.744856  44.111111  0.027  \n",
       "73  1659.169550  56.411765  0.034  \n",
       "85  1665.972945  51.645161  0.031  \n",
       "16  1670.781893  45.111111  0.027  \n",
       "84  1675.849403  55.303030  0.033  \n",
       "38  1683.200000  42.080000  0.025  \n",
       "69  1707.031250  54.625000  0.032  \n",
       "62  1761.111111  52.833333  0.030  \n",
       "83  1761.706556  54.612903  0.031  \n",
       "37  1791.914388  51.965517  0.029  \n",
       "82  1886.094675  49.038462  0.026  \n",
       "64  1934.948980  54.178571  0.028  \n",
       "35  1940.082645  42.681818  0.022  \n",
       "52  1960.059172  50.961538  0.026  \n",
       "47  2006.198347  44.136364  0.022  \n",
       "80  2068.047337  53.769231  0.026  \n",
       "20  2104.166667  50.500000  0.024  \n",
       "24  2255.208333  54.125000  0.024  \n",
       "23  2425.000000  48.500000  0.020  \n",
       "36  2555.555556  53.666667  0.021  \n",
       "68  2666.666667  56.000000  0.021  \n",
       "50  2742.222222  41.133333  0.015  \n",
       "67  2869.806094  54.526316  0.019  \n",
       "39  2875.432526  48.882353  0.017  \n",
       "51  2880.886427  54.736842  0.019  \n",
       "53  4515.306122  63.214286  0.014  \n",
       "\n",
       "[90 rows x 6 columns]"
      ]
     },
     "execution_count": 9,
     "metadata": {},
     "output_type": "execute_result"
    }
   ],
   "source": [
    "results_pivot = results.pivot_table(\n",
    "    index=['heur', 'mutation', 'crossover'],\n",
    "    values=['neval'],\n",
    "    aggfunc=(rel, mne, feo)\n",
    ")['neval']\n",
    "results_pivot = results_pivot.reset_index()\n",
    "results_pivot.sort_values(by='feo')"
   ]
  },
  {
   "cell_type": "markdown",
   "metadata": {},
   "source": [
    "The best-performing heuristics are:"
   ]
  },
  {
   "cell_type": "code",
   "execution_count": 10,
   "metadata": {},
   "outputs": [
    {
     "data": {
      "text/html": [
       "<div>\n",
       "<style scoped>\n",
       "    .dataframe tbody tr th:only-of-type {\n",
       "        vertical-align: middle;\n",
       "    }\n",
       "\n",
       "    .dataframe tbody tr th {\n",
       "        vertical-align: top;\n",
       "    }\n",
       "\n",
       "    .dataframe thead th {\n",
       "        text-align: right;\n",
       "    }\n",
       "</style>\n",
       "<table border=\"1\" class=\"dataframe\">\n",
       "  <thead>\n",
       "    <tr style=\"text-align: right;\">\n",
       "      <th></th>\n",
       "      <th>heur</th>\n",
       "      <th>mutation</th>\n",
       "      <th>crossover</th>\n",
       "      <th>feo</th>\n",
       "      <th>mne</th>\n",
       "      <th>rel</th>\n",
       "    </tr>\n",
       "  </thead>\n",
       "  <tbody>\n",
       "    <tr>\n",
       "      <th>12</th>\n",
       "      <td>GO_mut:(cauchy1_vanilla)_cro:uni1</td>\n",
       "      <td>cauchy1_vanilla</td>\n",
       "      <td>uni1</td>\n",
       "      <td>258.822820</td>\n",
       "      <td>57.717489</td>\n",
       "      <td>0.223</td>\n",
       "    </tr>\n",
       "    <tr>\n",
       "      <th>13</th>\n",
       "      <td>GO_mut:(cauchy1_vanilla)_cro:uni2</td>\n",
       "      <td>cauchy1_vanilla</td>\n",
       "      <td>uni2</td>\n",
       "      <td>276.606346</td>\n",
       "      <td>61.959821</td>\n",
       "      <td>0.224</td>\n",
       "    </tr>\n",
       "    <tr>\n",
       "      <th>14</th>\n",
       "      <td>GO_mut:(cauchy1_vanilla)_cro:uni3</td>\n",
       "      <td>cauchy1_vanilla</td>\n",
       "      <td>uni3</td>\n",
       "      <td>300.709111</td>\n",
       "      <td>59.540404</td>\n",
       "      <td>0.198</td>\n",
       "    </tr>\n",
       "    <tr>\n",
       "      <th>10</th>\n",
       "      <td>GO_mut:(cauchy1_vanilla)_cro:mix</td>\n",
       "      <td>cauchy1_vanilla</td>\n",
       "      <td>mix</td>\n",
       "      <td>304.325000</td>\n",
       "      <td>60.865000</td>\n",
       "      <td>0.200</td>\n",
       "    </tr>\n",
       "    <tr>\n",
       "      <th>11</th>\n",
       "      <td>GO_mut:(cauchy1_vanilla)_cro:rnd</td>\n",
       "      <td>cauchy1_vanilla</td>\n",
       "      <td>rnd</td>\n",
       "      <td>308.778355</td>\n",
       "      <td>56.815217</td>\n",
       "      <td>0.184</td>\n",
       "    </tr>\n",
       "    <tr>\n",
       "      <th>28</th>\n",
       "      <td>GO_mut:(cauchy3_vanilla)_cro:uni2</td>\n",
       "      <td>cauchy3_vanilla</td>\n",
       "      <td>uni2</td>\n",
       "      <td>318.806689</td>\n",
       "      <td>53.559524</td>\n",
       "      <td>0.168</td>\n",
       "    </tr>\n",
       "    <tr>\n",
       "      <th>57</th>\n",
       "      <td>GO_mut:(levy1_vanilla)_cro:uni1</td>\n",
       "      <td>levy1_vanilla</td>\n",
       "      <td>uni1</td>\n",
       "      <td>327.753415</td>\n",
       "      <td>50.474026</td>\n",
       "      <td>0.154</td>\n",
       "    </tr>\n",
       "    <tr>\n",
       "      <th>25</th>\n",
       "      <td>GO_mut:(cauchy3_vanilla)_cro:mix</td>\n",
       "      <td>cauchy3_vanilla</td>\n",
       "      <td>mix</td>\n",
       "      <td>333.112948</td>\n",
       "      <td>54.963636</td>\n",
       "      <td>0.165</td>\n",
       "    </tr>\n",
       "    <tr>\n",
       "      <th>26</th>\n",
       "      <td>GO_mut:(cauchy3_vanilla)_cro:rnd</td>\n",
       "      <td>cauchy3_vanilla</td>\n",
       "      <td>rnd</td>\n",
       "      <td>355.632110</td>\n",
       "      <td>56.189873</td>\n",
       "      <td>0.158</td>\n",
       "    </tr>\n",
       "    <tr>\n",
       "      <th>27</th>\n",
       "      <td>GO_mut:(cauchy3_vanilla)_cro:uni1</td>\n",
       "      <td>cauchy3_vanilla</td>\n",
       "      <td>uni1</td>\n",
       "      <td>361.022095</td>\n",
       "      <td>55.597403</td>\n",
       "      <td>0.154</td>\n",
       "    </tr>\n",
       "  </tbody>\n",
       "</table>\n",
       "</div>"
      ],
      "text/plain": [
       "                                 heur         mutation crossover         feo  \\\n",
       "12  GO_mut:(cauchy1_vanilla)_cro:uni1  cauchy1_vanilla      uni1  258.822820   \n",
       "13  GO_mut:(cauchy1_vanilla)_cro:uni2  cauchy1_vanilla      uni2  276.606346   \n",
       "14  GO_mut:(cauchy1_vanilla)_cro:uni3  cauchy1_vanilla      uni3  300.709111   \n",
       "10   GO_mut:(cauchy1_vanilla)_cro:mix  cauchy1_vanilla       mix  304.325000   \n",
       "11   GO_mut:(cauchy1_vanilla)_cro:rnd  cauchy1_vanilla       rnd  308.778355   \n",
       "28  GO_mut:(cauchy3_vanilla)_cro:uni2  cauchy3_vanilla      uni2  318.806689   \n",
       "57    GO_mut:(levy1_vanilla)_cro:uni1    levy1_vanilla      uni1  327.753415   \n",
       "25   GO_mut:(cauchy3_vanilla)_cro:mix  cauchy3_vanilla       mix  333.112948   \n",
       "26   GO_mut:(cauchy3_vanilla)_cro:rnd  cauchy3_vanilla       rnd  355.632110   \n",
       "27  GO_mut:(cauchy3_vanilla)_cro:uni1  cauchy3_vanilla      uni1  361.022095   \n",
       "\n",
       "          mne    rel  \n",
       "12  57.717489  0.223  \n",
       "13  61.959821  0.224  \n",
       "14  59.540404  0.198  \n",
       "10  60.865000  0.200  \n",
       "11  56.815217  0.184  \n",
       "28  53.559524  0.168  \n",
       "57  50.474026  0.154  \n",
       "25  54.963636  0.165  \n",
       "26  56.189873  0.158  \n",
       "27  55.597403  0.154  "
      ]
     },
     "execution_count": 10,
     "metadata": {},
     "output_type": "execute_result"
    }
   ],
   "source": [
    "results_pivot.sort_values(by='feo').head(10)"
   ]
  },
  {
   "cell_type": "markdown",
   "metadata": {},
   "source": [
    "Goal 1: Implemented **LévyMutation(scale, correction)** does not perform as well as **CauchyMutation(r, correction)**."
   ]
  },
  {
   "cell_type": "markdown",
   "metadata": {},
   "source": [
    "The best-performing and chosen hyperparameter options are: \n",
    "\n",
    "* crossover: UniformMultipoint(1)\n",
    "\n",
    "* mutation: CauchyMutation(r=1, correction=Correction())\n",
    "\n",
    "* correction: vanilla Correction()"
   ]
  },
  {
   "cell_type": "markdown",
   "metadata": {},
   "source": [
    "### Tuning of $N$, $M$, $T_1$ and $T_2$ hyperparameters for GO with chosen crossover, correction and mutation"
   ]
  },
  {
   "cell_type": "code",
   "execution_count": 11,
   "metadata": {},
   "outputs": [],
   "source": [
    "mutation=CauchyMutation(r=1, correction=Correction(tsp))\n",
    "crossover=UniformMultipoint(1)"
   ]
  },
  {
   "cell_type": "markdown",
   "metadata": {},
   "source": [
    "Subsequent code uses different options of **$N$, $M$, $T_1$** and **$T_2$**. The user can choose different settings in either group. \n",
    "\n",
    "In the current settings there are 3 options of $N$, 4 of $M$, 2 of $T_1$ and 2 of $T_2$ options."
   ]
  },
  {
   "cell_type": "code",
   "execution_count": 12,
   "metadata": {},
   "outputs": [],
   "source": [
    "N = [2, 3, 5]\n",
    "M = [6, 10, 50, 200]\n",
    "T1 = [5, 0.5]\n",
    "T2 = [0.4, 0.2]"
   ]
  },
  {
   "cell_type": "code",
   "execution_count": 13,
   "metadata": {
    "scrolled": true
   },
   "outputs": [
    {
     "data": {
      "application/vnd.jupyter.widget-view+json": {
       "model_id": "dad8a9ab4d0449aa90ba6668308630e4",
       "version_major": 2,
       "version_minor": 0
      },
      "text/plain": [
       "HBox(children=(IntProgress(value=0, description='Testing GO_N:2_M:6_T1:5_T2:0.4', max=1000, style=ProgressStyl…"
      ]
     },
     "metadata": {},
     "output_type": "display_data"
    },
    {
     "name": "stdout",
     "output_type": "stream",
     "text": [
      "\n"
     ]
    },
    {
     "data": {
      "application/vnd.jupyter.widget-view+json": {
       "model_id": "54662efa54894d4aa1e26ab27b3fb926",
       "version_major": 2,
       "version_minor": 0
      },
      "text/plain": [
       "HBox(children=(IntProgress(value=0, description='Testing GO_N:2_M:6_T1:5_T2:0.2', max=1000, style=ProgressStyl…"
      ]
     },
     "metadata": {},
     "output_type": "display_data"
    },
    {
     "name": "stdout",
     "output_type": "stream",
     "text": [
      "\n"
     ]
    },
    {
     "data": {
      "application/vnd.jupyter.widget-view+json": {
       "model_id": "6d188daa2ed447faa37c555e15be054a",
       "version_major": 2,
       "version_minor": 0
      },
      "text/plain": [
       "HBox(children=(IntProgress(value=0, description='Testing GO_N:2_M:6_T1:0.5_T2:0.4', max=1000, style=ProgressSt…"
      ]
     },
     "metadata": {},
     "output_type": "display_data"
    },
    {
     "name": "stdout",
     "output_type": "stream",
     "text": [
      "\n"
     ]
    },
    {
     "data": {
      "application/vnd.jupyter.widget-view+json": {
       "model_id": "544e25290dd84c6c8a8b5f6403e79117",
       "version_major": 2,
       "version_minor": 0
      },
      "text/plain": [
       "HBox(children=(IntProgress(value=0, description='Testing GO_N:2_M:6_T1:0.5_T2:0.2', max=1000, style=ProgressSt…"
      ]
     },
     "metadata": {},
     "output_type": "display_data"
    },
    {
     "name": "stdout",
     "output_type": "stream",
     "text": [
      "\n"
     ]
    },
    {
     "data": {
      "application/vnd.jupyter.widget-view+json": {
       "model_id": "8aa7b95e53364005a169e04e37cb7e55",
       "version_major": 2,
       "version_minor": 0
      },
      "text/plain": [
       "HBox(children=(IntProgress(value=0, description='Testing GO_N:3_M:6_T1:5_T2:0.4', max=1000, style=ProgressStyl…"
      ]
     },
     "metadata": {},
     "output_type": "display_data"
    },
    {
     "name": "stdout",
     "output_type": "stream",
     "text": [
      "\n"
     ]
    },
    {
     "data": {
      "application/vnd.jupyter.widget-view+json": {
       "model_id": "b2b34b31d12e4936b8993b13ac8fe81e",
       "version_major": 2,
       "version_minor": 0
      },
      "text/plain": [
       "HBox(children=(IntProgress(value=0, description='Testing GO_N:3_M:6_T1:5_T2:0.2', max=1000, style=ProgressStyl…"
      ]
     },
     "metadata": {},
     "output_type": "display_data"
    },
    {
     "name": "stdout",
     "output_type": "stream",
     "text": [
      "\n"
     ]
    },
    {
     "data": {
      "application/vnd.jupyter.widget-view+json": {
       "model_id": "74697b23d8ae4fe9aa594ba3d79c868f",
       "version_major": 2,
       "version_minor": 0
      },
      "text/plain": [
       "HBox(children=(IntProgress(value=0, description='Testing GO_N:3_M:6_T1:0.5_T2:0.4', max=1000, style=ProgressSt…"
      ]
     },
     "metadata": {},
     "output_type": "display_data"
    },
    {
     "name": "stdout",
     "output_type": "stream",
     "text": [
      "\n"
     ]
    },
    {
     "data": {
      "application/vnd.jupyter.widget-view+json": {
       "model_id": "276f1422abfd40bb98d4e1736b83d900",
       "version_major": 2,
       "version_minor": 0
      },
      "text/plain": [
       "HBox(children=(IntProgress(value=0, description='Testing GO_N:3_M:6_T1:0.5_T2:0.2', max=1000, style=ProgressSt…"
      ]
     },
     "metadata": {},
     "output_type": "display_data"
    },
    {
     "name": "stdout",
     "output_type": "stream",
     "text": [
      "\n"
     ]
    },
    {
     "data": {
      "application/vnd.jupyter.widget-view+json": {
       "model_id": "12c07105345e491f83c9e6f32048eb12",
       "version_major": 2,
       "version_minor": 0
      },
      "text/plain": [
       "HBox(children=(IntProgress(value=0, description='Testing GO_N:5_M:6_T1:5_T2:0.4', max=1000, style=ProgressStyl…"
      ]
     },
     "metadata": {},
     "output_type": "display_data"
    },
    {
     "name": "stdout",
     "output_type": "stream",
     "text": [
      "\n"
     ]
    },
    {
     "data": {
      "application/vnd.jupyter.widget-view+json": {
       "model_id": "5db07786296d45069eb848700ddf94ee",
       "version_major": 2,
       "version_minor": 0
      },
      "text/plain": [
       "HBox(children=(IntProgress(value=0, description='Testing GO_N:5_M:6_T1:5_T2:0.2', max=1000, style=ProgressStyl…"
      ]
     },
     "metadata": {},
     "output_type": "display_data"
    },
    {
     "name": "stdout",
     "output_type": "stream",
     "text": [
      "\n"
     ]
    },
    {
     "data": {
      "application/vnd.jupyter.widget-view+json": {
       "model_id": "9ff36ba116c14a8588606f166636628b",
       "version_major": 2,
       "version_minor": 0
      },
      "text/plain": [
       "HBox(children=(IntProgress(value=0, description='Testing GO_N:5_M:6_T1:0.5_T2:0.4', max=1000, style=ProgressSt…"
      ]
     },
     "metadata": {},
     "output_type": "display_data"
    },
    {
     "name": "stdout",
     "output_type": "stream",
     "text": [
      "\n"
     ]
    },
    {
     "data": {
      "application/vnd.jupyter.widget-view+json": {
       "model_id": "e5c85cb372534d54a822e74f225eb7f2",
       "version_major": 2,
       "version_minor": 0
      },
      "text/plain": [
       "HBox(children=(IntProgress(value=0, description='Testing GO_N:5_M:6_T1:0.5_T2:0.2', max=1000, style=ProgressSt…"
      ]
     },
     "metadata": {},
     "output_type": "display_data"
    },
    {
     "name": "stdout",
     "output_type": "stream",
     "text": [
      "\n"
     ]
    },
    {
     "data": {
      "application/vnd.jupyter.widget-view+json": {
       "model_id": "e33813ca58c84ec4ab669b5c255645d8",
       "version_major": 2,
       "version_minor": 0
      },
      "text/plain": [
       "HBox(children=(IntProgress(value=0, description='Testing GO_N:2_M:10_T1:5_T2:0.4', max=1000, style=ProgressSty…"
      ]
     },
     "metadata": {},
     "output_type": "display_data"
    },
    {
     "name": "stdout",
     "output_type": "stream",
     "text": [
      "\n"
     ]
    },
    {
     "data": {
      "application/vnd.jupyter.widget-view+json": {
       "model_id": "ce9f8f73818f4d048bb5d0ae93b6e9ea",
       "version_major": 2,
       "version_minor": 0
      },
      "text/plain": [
       "HBox(children=(IntProgress(value=0, description='Testing GO_N:2_M:10_T1:5_T2:0.2', max=1000, style=ProgressSty…"
      ]
     },
     "metadata": {},
     "output_type": "display_data"
    },
    {
     "name": "stdout",
     "output_type": "stream",
     "text": [
      "\n"
     ]
    },
    {
     "data": {
      "application/vnd.jupyter.widget-view+json": {
       "model_id": "ba9462b04c66419c8162dd603e7bbd7d",
       "version_major": 2,
       "version_minor": 0
      },
      "text/plain": [
       "HBox(children=(IntProgress(value=0, description='Testing GO_N:2_M:10_T1:0.5_T2:0.4', max=1000, style=ProgressS…"
      ]
     },
     "metadata": {},
     "output_type": "display_data"
    },
    {
     "name": "stdout",
     "output_type": "stream",
     "text": [
      "\n"
     ]
    },
    {
     "data": {
      "application/vnd.jupyter.widget-view+json": {
       "model_id": "e0d8eddf48ef480ba16a8219abcadf98",
       "version_major": 2,
       "version_minor": 0
      },
      "text/plain": [
       "HBox(children=(IntProgress(value=0, description='Testing GO_N:2_M:10_T1:0.5_T2:0.2', max=1000, style=ProgressS…"
      ]
     },
     "metadata": {},
     "output_type": "display_data"
    },
    {
     "name": "stdout",
     "output_type": "stream",
     "text": [
      "\n"
     ]
    },
    {
     "data": {
      "application/vnd.jupyter.widget-view+json": {
       "model_id": "ae9fbffa00ae415482801b91d92b8a9d",
       "version_major": 2,
       "version_minor": 0
      },
      "text/plain": [
       "HBox(children=(IntProgress(value=0, description='Testing GO_N:3_M:10_T1:5_T2:0.4', max=1000, style=ProgressSty…"
      ]
     },
     "metadata": {},
     "output_type": "display_data"
    },
    {
     "name": "stdout",
     "output_type": "stream",
     "text": [
      "\n"
     ]
    },
    {
     "data": {
      "application/vnd.jupyter.widget-view+json": {
       "model_id": "c1f5b8c0acb44ab0b9397446c80eb18d",
       "version_major": 2,
       "version_minor": 0
      },
      "text/plain": [
       "HBox(children=(IntProgress(value=0, description='Testing GO_N:3_M:10_T1:5_T2:0.2', max=1000, style=ProgressSty…"
      ]
     },
     "metadata": {},
     "output_type": "display_data"
    },
    {
     "name": "stdout",
     "output_type": "stream",
     "text": [
      "\n"
     ]
    },
    {
     "data": {
      "application/vnd.jupyter.widget-view+json": {
       "model_id": "d84a6e9f4de54c77a5aa8fcffedf2ee6",
       "version_major": 2,
       "version_minor": 0
      },
      "text/plain": [
       "HBox(children=(IntProgress(value=0, description='Testing GO_N:3_M:10_T1:0.5_T2:0.4', max=1000, style=ProgressS…"
      ]
     },
     "metadata": {},
     "output_type": "display_data"
    },
    {
     "name": "stdout",
     "output_type": "stream",
     "text": [
      "\n"
     ]
    },
    {
     "data": {
      "application/vnd.jupyter.widget-view+json": {
       "model_id": "ee262c95083c417083148c505fbbf029",
       "version_major": 2,
       "version_minor": 0
      },
      "text/plain": [
       "HBox(children=(IntProgress(value=0, description='Testing GO_N:3_M:10_T1:0.5_T2:0.2', max=1000, style=ProgressS…"
      ]
     },
     "metadata": {},
     "output_type": "display_data"
    },
    {
     "name": "stdout",
     "output_type": "stream",
     "text": [
      "\n"
     ]
    },
    {
     "data": {
      "application/vnd.jupyter.widget-view+json": {
       "model_id": "76b9af07a38c41ed891153fb003cb9c0",
       "version_major": 2,
       "version_minor": 0
      },
      "text/plain": [
       "HBox(children=(IntProgress(value=0, description='Testing GO_N:5_M:10_T1:5_T2:0.4', max=1000, style=ProgressSty…"
      ]
     },
     "metadata": {},
     "output_type": "display_data"
    },
    {
     "name": "stdout",
     "output_type": "stream",
     "text": [
      "\n"
     ]
    },
    {
     "data": {
      "application/vnd.jupyter.widget-view+json": {
       "model_id": "759a30bca9a8462f8d606b56b39e2f26",
       "version_major": 2,
       "version_minor": 0
      },
      "text/plain": [
       "HBox(children=(IntProgress(value=0, description='Testing GO_N:5_M:10_T1:5_T2:0.2', max=1000, style=ProgressSty…"
      ]
     },
     "metadata": {},
     "output_type": "display_data"
    },
    {
     "name": "stdout",
     "output_type": "stream",
     "text": [
      "\n"
     ]
    },
    {
     "data": {
      "application/vnd.jupyter.widget-view+json": {
       "model_id": "d56943be498a48c3bdf07550395b086d",
       "version_major": 2,
       "version_minor": 0
      },
      "text/plain": [
       "HBox(children=(IntProgress(value=0, description='Testing GO_N:5_M:10_T1:0.5_T2:0.4', max=1000, style=ProgressS…"
      ]
     },
     "metadata": {},
     "output_type": "display_data"
    },
    {
     "name": "stdout",
     "output_type": "stream",
     "text": [
      "\n"
     ]
    },
    {
     "data": {
      "application/vnd.jupyter.widget-view+json": {
       "model_id": "64f88aa0a650418c8a40fe9948042e0d",
       "version_major": 2,
       "version_minor": 0
      },
      "text/plain": [
       "HBox(children=(IntProgress(value=0, description='Testing GO_N:5_M:10_T1:0.5_T2:0.2', max=1000, style=ProgressS…"
      ]
     },
     "metadata": {},
     "output_type": "display_data"
    },
    {
     "name": "stdout",
     "output_type": "stream",
     "text": [
      "\n"
     ]
    },
    {
     "data": {
      "application/vnd.jupyter.widget-view+json": {
       "model_id": "114f5f0be49f4c82bf3702a2136e95b4",
       "version_major": 2,
       "version_minor": 0
      },
      "text/plain": [
       "HBox(children=(IntProgress(value=0, description='Testing GO_N:2_M:50_T1:5_T2:0.4', max=1000, style=ProgressSty…"
      ]
     },
     "metadata": {},
     "output_type": "display_data"
    },
    {
     "name": "stdout",
     "output_type": "stream",
     "text": [
      "\n"
     ]
    },
    {
     "data": {
      "application/vnd.jupyter.widget-view+json": {
       "model_id": "00074780919d4787860d856f55253b8d",
       "version_major": 2,
       "version_minor": 0
      },
      "text/plain": [
       "HBox(children=(IntProgress(value=0, description='Testing GO_N:2_M:50_T1:5_T2:0.2', max=1000, style=ProgressSty…"
      ]
     },
     "metadata": {},
     "output_type": "display_data"
    },
    {
     "name": "stdout",
     "output_type": "stream",
     "text": [
      "\n"
     ]
    },
    {
     "data": {
      "application/vnd.jupyter.widget-view+json": {
       "model_id": "84ba8b6927cb43fc95246ab095c49dfb",
       "version_major": 2,
       "version_minor": 0
      },
      "text/plain": [
       "HBox(children=(IntProgress(value=0, description='Testing GO_N:2_M:50_T1:0.5_T2:0.4', max=1000, style=ProgressS…"
      ]
     },
     "metadata": {},
     "output_type": "display_data"
    },
    {
     "name": "stdout",
     "output_type": "stream",
     "text": [
      "\n"
     ]
    },
    {
     "data": {
      "application/vnd.jupyter.widget-view+json": {
       "model_id": "22b14aade15241d5bc8bec0a7b66deef",
       "version_major": 2,
       "version_minor": 0
      },
      "text/plain": [
       "HBox(children=(IntProgress(value=0, description='Testing GO_N:2_M:50_T1:0.5_T2:0.2', max=1000, style=ProgressS…"
      ]
     },
     "metadata": {},
     "output_type": "display_data"
    },
    {
     "name": "stdout",
     "output_type": "stream",
     "text": [
      "\n"
     ]
    },
    {
     "data": {
      "application/vnd.jupyter.widget-view+json": {
       "model_id": "eeca1a22901745b2924ba501fbe93707",
       "version_major": 2,
       "version_minor": 0
      },
      "text/plain": [
       "HBox(children=(IntProgress(value=0, description='Testing GO_N:3_M:50_T1:5_T2:0.4', max=1000, style=ProgressSty…"
      ]
     },
     "metadata": {},
     "output_type": "display_data"
    },
    {
     "name": "stdout",
     "output_type": "stream",
     "text": [
      "\n"
     ]
    },
    {
     "data": {
      "application/vnd.jupyter.widget-view+json": {
       "model_id": "b01e540f9d004eb698459bbacc00133d",
       "version_major": 2,
       "version_minor": 0
      },
      "text/plain": [
       "HBox(children=(IntProgress(value=0, description='Testing GO_N:3_M:50_T1:5_T2:0.2', max=1000, style=ProgressSty…"
      ]
     },
     "metadata": {},
     "output_type": "display_data"
    },
    {
     "name": "stdout",
     "output_type": "stream",
     "text": [
      "\n"
     ]
    },
    {
     "data": {
      "application/vnd.jupyter.widget-view+json": {
       "model_id": "fff4f549340b4bba8ce09cc7f6fd7b8a",
       "version_major": 2,
       "version_minor": 0
      },
      "text/plain": [
       "HBox(children=(IntProgress(value=0, description='Testing GO_N:3_M:50_T1:0.5_T2:0.4', max=1000, style=ProgressS…"
      ]
     },
     "metadata": {},
     "output_type": "display_data"
    },
    {
     "name": "stdout",
     "output_type": "stream",
     "text": [
      "\n"
     ]
    },
    {
     "data": {
      "application/vnd.jupyter.widget-view+json": {
       "model_id": "9baa50d0b1694be8a37255ca1b92a0f1",
       "version_major": 2,
       "version_minor": 0
      },
      "text/plain": [
       "HBox(children=(IntProgress(value=0, description='Testing GO_N:3_M:50_T1:0.5_T2:0.2', max=1000, style=ProgressS…"
      ]
     },
     "metadata": {},
     "output_type": "display_data"
    },
    {
     "name": "stdout",
     "output_type": "stream",
     "text": [
      "\n"
     ]
    },
    {
     "data": {
      "application/vnd.jupyter.widget-view+json": {
       "model_id": "2c927bde1d134e7b8b5670a8bd0e3b81",
       "version_major": 2,
       "version_minor": 0
      },
      "text/plain": [
       "HBox(children=(IntProgress(value=0, description='Testing GO_N:5_M:50_T1:5_T2:0.4', max=1000, style=ProgressSty…"
      ]
     },
     "metadata": {},
     "output_type": "display_data"
    },
    {
     "name": "stdout",
     "output_type": "stream",
     "text": [
      "\n"
     ]
    },
    {
     "data": {
      "application/vnd.jupyter.widget-view+json": {
       "model_id": "897272e70f0b4f23b202eae35244f982",
       "version_major": 2,
       "version_minor": 0
      },
      "text/plain": [
       "HBox(children=(IntProgress(value=0, description='Testing GO_N:5_M:50_T1:5_T2:0.2', max=1000, style=ProgressSty…"
      ]
     },
     "metadata": {},
     "output_type": "display_data"
    },
    {
     "name": "stdout",
     "output_type": "stream",
     "text": [
      "\n"
     ]
    },
    {
     "data": {
      "application/vnd.jupyter.widget-view+json": {
       "model_id": "9eff88b24c57428b8a77156ec6256cd7",
       "version_major": 2,
       "version_minor": 0
      },
      "text/plain": [
       "HBox(children=(IntProgress(value=0, description='Testing GO_N:5_M:50_T1:0.5_T2:0.4', max=1000, style=ProgressS…"
      ]
     },
     "metadata": {},
     "output_type": "display_data"
    },
    {
     "name": "stdout",
     "output_type": "stream",
     "text": [
      "\n"
     ]
    },
    {
     "data": {
      "application/vnd.jupyter.widget-view+json": {
       "model_id": "2026ca1d58054152b7f0e1d1857d8765",
       "version_major": 2,
       "version_minor": 0
      },
      "text/plain": [
       "HBox(children=(IntProgress(value=0, description='Testing GO_N:5_M:50_T1:0.5_T2:0.2', max=1000, style=ProgressS…"
      ]
     },
     "metadata": {},
     "output_type": "display_data"
    },
    {
     "name": "stdout",
     "output_type": "stream",
     "text": [
      "\n"
     ]
    },
    {
     "data": {
      "application/vnd.jupyter.widget-view+json": {
       "model_id": "ecc69417aa044461a7974096d2a7a64c",
       "version_major": 2,
       "version_minor": 0
      },
      "text/plain": [
       "HBox(children=(IntProgress(value=0, description='Testing GO_N:2_M:200_T1:5_T2:0.4', max=1000, style=ProgressSt…"
      ]
     },
     "metadata": {},
     "output_type": "display_data"
    },
    {
     "name": "stdout",
     "output_type": "stream",
     "text": [
      "\n"
     ]
    },
    {
     "data": {
      "application/vnd.jupyter.widget-view+json": {
       "model_id": "90ecd8909abb46abb02289d181e712bf",
       "version_major": 2,
       "version_minor": 0
      },
      "text/plain": [
       "HBox(children=(IntProgress(value=0, description='Testing GO_N:2_M:200_T1:5_T2:0.2', max=1000, style=ProgressSt…"
      ]
     },
     "metadata": {},
     "output_type": "display_data"
    },
    {
     "name": "stdout",
     "output_type": "stream",
     "text": [
      "\n"
     ]
    },
    {
     "data": {
      "application/vnd.jupyter.widget-view+json": {
       "model_id": "9a99233c2a0d4cb6a9071d8d279556d4",
       "version_major": 2,
       "version_minor": 0
      },
      "text/plain": [
       "HBox(children=(IntProgress(value=0, description='Testing GO_N:2_M:200_T1:0.5_T2:0.4', max=1000, style=Progress…"
      ]
     },
     "metadata": {},
     "output_type": "display_data"
    },
    {
     "name": "stdout",
     "output_type": "stream",
     "text": [
      "\n"
     ]
    },
    {
     "data": {
      "application/vnd.jupyter.widget-view+json": {
       "model_id": "5fac5936de5740a1b46e748f36d99878",
       "version_major": 2,
       "version_minor": 0
      },
      "text/plain": [
       "HBox(children=(IntProgress(value=0, description='Testing GO_N:2_M:200_T1:0.5_T2:0.2', max=1000, style=Progress…"
      ]
     },
     "metadata": {},
     "output_type": "display_data"
    },
    {
     "name": "stdout",
     "output_type": "stream",
     "text": [
      "\n"
     ]
    },
    {
     "data": {
      "application/vnd.jupyter.widget-view+json": {
       "model_id": "fccca5da29ff46378bad0fbd40d79d3b",
       "version_major": 2,
       "version_minor": 0
      },
      "text/plain": [
       "HBox(children=(IntProgress(value=0, description='Testing GO_N:3_M:200_T1:5_T2:0.4', max=1000, style=ProgressSt…"
      ]
     },
     "metadata": {},
     "output_type": "display_data"
    },
    {
     "name": "stdout",
     "output_type": "stream",
     "text": [
      "\n"
     ]
    },
    {
     "data": {
      "application/vnd.jupyter.widget-view+json": {
       "model_id": "256ee3cb54a143f7b16519265296d154",
       "version_major": 2,
       "version_minor": 0
      },
      "text/plain": [
       "HBox(children=(IntProgress(value=0, description='Testing GO_N:3_M:200_T1:5_T2:0.2', max=1000, style=ProgressSt…"
      ]
     },
     "metadata": {},
     "output_type": "display_data"
    },
    {
     "name": "stdout",
     "output_type": "stream",
     "text": [
      "\n"
     ]
    },
    {
     "data": {
      "application/vnd.jupyter.widget-view+json": {
       "model_id": "8ce4faef84f64842a3925d79dbff50f9",
       "version_major": 2,
       "version_minor": 0
      },
      "text/plain": [
       "HBox(children=(IntProgress(value=0, description='Testing GO_N:3_M:200_T1:0.5_T2:0.4', max=1000, style=Progress…"
      ]
     },
     "metadata": {},
     "output_type": "display_data"
    },
    {
     "name": "stdout",
     "output_type": "stream",
     "text": [
      "\n"
     ]
    },
    {
     "data": {
      "application/vnd.jupyter.widget-view+json": {
       "model_id": "49286d134dad416cac85c22aa62eb67a",
       "version_major": 2,
       "version_minor": 0
      },
      "text/plain": [
       "HBox(children=(IntProgress(value=0, description='Testing GO_N:3_M:200_T1:0.5_T2:0.2', max=1000, style=Progress…"
      ]
     },
     "metadata": {},
     "output_type": "display_data"
    },
    {
     "name": "stdout",
     "output_type": "stream",
     "text": [
      "\n"
     ]
    },
    {
     "data": {
      "application/vnd.jupyter.widget-view+json": {
       "model_id": "090de941001e44019c1bb47a52b599f2",
       "version_major": 2,
       "version_minor": 0
      },
      "text/plain": [
       "HBox(children=(IntProgress(value=0, description='Testing GO_N:5_M:200_T1:5_T2:0.4', max=1000, style=ProgressSt…"
      ]
     },
     "metadata": {},
     "output_type": "display_data"
    },
    {
     "name": "stdout",
     "output_type": "stream",
     "text": [
      "\n"
     ]
    },
    {
     "data": {
      "application/vnd.jupyter.widget-view+json": {
       "model_id": "456efc24954d4dbdbeaa9503daba939e",
       "version_major": 2,
       "version_minor": 0
      },
      "text/plain": [
       "HBox(children=(IntProgress(value=0, description='Testing GO_N:5_M:200_T1:5_T2:0.2', max=1000, style=ProgressSt…"
      ]
     },
     "metadata": {},
     "output_type": "display_data"
    },
    {
     "name": "stdout",
     "output_type": "stream",
     "text": [
      "\n"
     ]
    },
    {
     "data": {
      "application/vnd.jupyter.widget-view+json": {
       "model_id": "27c90a1b3ae448a786ca902a13788df4",
       "version_major": 2,
       "version_minor": 0
      },
      "text/plain": [
       "HBox(children=(IntProgress(value=0, description='Testing GO_N:5_M:200_T1:0.5_T2:0.4', max=1000, style=Progress…"
      ]
     },
     "metadata": {},
     "output_type": "display_data"
    },
    {
     "name": "stdout",
     "output_type": "stream",
     "text": [
      "\n"
     ]
    },
    {
     "data": {
      "application/vnd.jupyter.widget-view+json": {
       "model_id": "292bff7612874b019c5165ce6935c0f9",
       "version_major": 2,
       "version_minor": 0
      },
      "text/plain": [
       "HBox(children=(IntProgress(value=0, description='Testing GO_N:5_M:200_T1:0.5_T2:0.2', max=1000, style=Progress…"
      ]
     },
     "metadata": {},
     "output_type": "display_data"
    },
    {
     "name": "stdout",
     "output_type": "stream",
     "text": [
      "\n"
     ]
    }
   ],
   "source": [
    "results = pd.DataFrame()\n",
    "for m in M:\n",
    "    for n in N:\n",
    "        for temp1 in T1:\n",
    "            for temp2 in T2:         \n",
    "                heur_name = 'GO_N:{}_M:{}_T1:{}_T2:{}'.format(n, m, temp1, temp2)\n",
    "                runs = []\n",
    "                for i in tqdm_notebook(range(NUM_RUNS), 'Testing {}'.format(heur_name)):\n",
    "                    run = GeneticOptimization(tsp, maxeval, N=n, M=m, Tsel1=temp1, Tsel2=temp2, \n",
    "                                              mutation=mutation,\n",
    "                                              crossover=crossover).search()\n",
    "                    run['run'] = i\n",
    "                    run['heur'] = heur_name\n",
    "                    run['n'] = n\n",
    "                    run['m'] = m\n",
    "                    run['temp1'] = temp1\n",
    "                    run['temp2'] = temp2\n",
    "                    runs.append(run)\n",
    "\n",
    "                res_df = pd.DataFrame(runs, columns=['heur', 'run', 'n', 'm','temp1', 'temp2', 'best_x', 'best_y', 'neval'])\n",
    "                results = pd.concat([results, res_df], axis=0)"
   ]
  },
  {
   "cell_type": "code",
   "execution_count": 14,
   "metadata": {
    "scrolled": true
   },
   "outputs": [
    {
     "data": {
      "text/html": [
       "<div>\n",
       "<style scoped>\n",
       "    .dataframe tbody tr th:only-of-type {\n",
       "        vertical-align: middle;\n",
       "    }\n",
       "\n",
       "    .dataframe tbody tr th {\n",
       "        vertical-align: top;\n",
       "    }\n",
       "\n",
       "    .dataframe thead th {\n",
       "        text-align: right;\n",
       "    }\n",
       "</style>\n",
       "<table border=\"1\" class=\"dataframe\">\n",
       "  <thead>\n",
       "    <tr style=\"text-align: right;\">\n",
       "      <th></th>\n",
       "      <th>heur</th>\n",
       "      <th>n</th>\n",
       "      <th>m</th>\n",
       "      <th>temp1</th>\n",
       "      <th>temp2</th>\n",
       "      <th>feo</th>\n",
       "      <th>mne</th>\n",
       "      <th>rel</th>\n",
       "    </tr>\n",
       "  </thead>\n",
       "  <tbody>\n",
       "    <tr>\n",
       "      <th>17</th>\n",
       "      <td>GO_N:3_M:10_T1:0.5_T2:0.4</td>\n",
       "      <td>3</td>\n",
       "      <td>10</td>\n",
       "      <td>0.5</td>\n",
       "      <td>0.4</td>\n",
       "      <td>245.085292</td>\n",
       "      <td>55.634361</td>\n",
       "      <td>0.227</td>\n",
       "    </tr>\n",
       "    <tr>\n",
       "      <th>28</th>\n",
       "      <td>GO_N:3_M:6_T1:0.5_T2:0.2</td>\n",
       "      <td>3</td>\n",
       "      <td>6</td>\n",
       "      <td>0.5</td>\n",
       "      <td>0.2</td>\n",
       "      <td>247.435556</td>\n",
       "      <td>54.683258</td>\n",
       "      <td>0.221</td>\n",
       "    </tr>\n",
       "    <tr>\n",
       "      <th>32</th>\n",
       "      <td>GO_N:5_M:10_T1:0.5_T2:0.2</td>\n",
       "      <td>5</td>\n",
       "      <td>10</td>\n",
       "      <td>0.5</td>\n",
       "      <td>0.2</td>\n",
       "      <td>256.198347</td>\n",
       "      <td>56.363636</td>\n",
       "      <td>0.220</td>\n",
       "    </tr>\n",
       "    <tr>\n",
       "      <th>13</th>\n",
       "      <td>GO_N:2_M:6_T1:0.5_T2:0.4</td>\n",
       "      <td>2</td>\n",
       "      <td>6</td>\n",
       "      <td>0.5</td>\n",
       "      <td>0.4</td>\n",
       "      <td>260.491763</td>\n",
       "      <td>49.753927</td>\n",
       "      <td>0.191</td>\n",
       "    </tr>\n",
       "    <tr>\n",
       "      <th>29</th>\n",
       "      <td>GO_N:3_M:6_T1:0.5_T2:0.4</td>\n",
       "      <td>3</td>\n",
       "      <td>6</td>\n",
       "      <td>0.5</td>\n",
       "      <td>0.4</td>\n",
       "      <td>270.477896</td>\n",
       "      <td>55.718447</td>\n",
       "      <td>0.206</td>\n",
       "    </tr>\n",
       "    <tr>\n",
       "      <th>44</th>\n",
       "      <td>GO_N:5_M:6_T1:0.5_T2:0.2</td>\n",
       "      <td>5</td>\n",
       "      <td>6</td>\n",
       "      <td>0.5</td>\n",
       "      <td>0.2</td>\n",
       "      <td>275.407562</td>\n",
       "      <td>51.225806</td>\n",
       "      <td>0.186</td>\n",
       "    </tr>\n",
       "    <tr>\n",
       "      <th>0</th>\n",
       "      <td>GO_N:2_M:10_T1:0.5_T2:0.2</td>\n",
       "      <td>2</td>\n",
       "      <td>10</td>\n",
       "      <td>0.5</td>\n",
       "      <td>0.2</td>\n",
       "      <td>282.850000</td>\n",
       "      <td>56.570000</td>\n",
       "      <td>0.200</td>\n",
       "    </tr>\n",
       "    <tr>\n",
       "      <th>16</th>\n",
       "      <td>GO_N:3_M:10_T1:0.5_T2:0.2</td>\n",
       "      <td>3</td>\n",
       "      <td>10</td>\n",
       "      <td>0.5</td>\n",
       "      <td>0.2</td>\n",
       "      <td>286.736594</td>\n",
       "      <td>57.920792</td>\n",
       "      <td>0.202</td>\n",
       "    </tr>\n",
       "    <tr>\n",
       "      <th>45</th>\n",
       "      <td>GO_N:5_M:6_T1:0.5_T2:0.4</td>\n",
       "      <td>5</td>\n",
       "      <td>6</td>\n",
       "      <td>0.5</td>\n",
       "      <td>0.4</td>\n",
       "      <td>289.868381</td>\n",
       "      <td>57.393939</td>\n",
       "      <td>0.198</td>\n",
       "    </tr>\n",
       "    <tr>\n",
       "      <th>1</th>\n",
       "      <td>GO_N:2_M:10_T1:0.5_T2:0.4</td>\n",
       "      <td>2</td>\n",
       "      <td>10</td>\n",
       "      <td>0.5</td>\n",
       "      <td>0.4</td>\n",
       "      <td>306.523000</td>\n",
       "      <td>55.480663</td>\n",
       "      <td>0.181</td>\n",
       "    </tr>\n",
       "    <tr>\n",
       "      <th>12</th>\n",
       "      <td>GO_N:2_M:6_T1:0.5_T2:0.2</td>\n",
       "      <td>2</td>\n",
       "      <td>6</td>\n",
       "      <td>0.5</td>\n",
       "      <td>0.2</td>\n",
       "      <td>309.775697</td>\n",
       "      <td>57.618280</td>\n",
       "      <td>0.186</td>\n",
       "    </tr>\n",
       "    <tr>\n",
       "      <th>33</th>\n",
       "      <td>GO_N:5_M:10_T1:0.5_T2:0.4</td>\n",
       "      <td>5</td>\n",
       "      <td>10</td>\n",
       "      <td>0.5</td>\n",
       "      <td>0.4</td>\n",
       "      <td>319.098929</td>\n",
       "      <td>57.756906</td>\n",
       "      <td>0.181</td>\n",
       "    </tr>\n",
       "    <tr>\n",
       "      <th>3</th>\n",
       "      <td>GO_N:2_M:10_T1:5_T2:0.4</td>\n",
       "      <td>2</td>\n",
       "      <td>10</td>\n",
       "      <td>5.0</td>\n",
       "      <td>0.4</td>\n",
       "      <td>346.362510</td>\n",
       "      <td>52.993464</td>\n",
       "      <td>0.153</td>\n",
       "    </tr>\n",
       "    <tr>\n",
       "      <th>30</th>\n",
       "      <td>GO_N:3_M:6_T1:5_T2:0.2</td>\n",
       "      <td>3</td>\n",
       "      <td>6</td>\n",
       "      <td>5.0</td>\n",
       "      <td>0.2</td>\n",
       "      <td>373.263889</td>\n",
       "      <td>53.750000</td>\n",
       "      <td>0.144</td>\n",
       "    </tr>\n",
       "    <tr>\n",
       "      <th>41</th>\n",
       "      <td>GO_N:5_M:50_T1:0.5_T2:0.4</td>\n",
       "      <td>5</td>\n",
       "      <td>50</td>\n",
       "      <td>0.5</td>\n",
       "      <td>0.4</td>\n",
       "      <td>377.226562</td>\n",
       "      <td>60.356250</td>\n",
       "      <td>0.160</td>\n",
       "    </tr>\n",
       "    <tr>\n",
       "      <th>40</th>\n",
       "      <td>GO_N:5_M:50_T1:0.5_T2:0.2</td>\n",
       "      <td>5</td>\n",
       "      <td>50</td>\n",
       "      <td>0.5</td>\n",
       "      <td>0.2</td>\n",
       "      <td>393.387601</td>\n",
       "      <td>63.335404</td>\n",
       "      <td>0.161</td>\n",
       "    </tr>\n",
       "    <tr>\n",
       "      <th>18</th>\n",
       "      <td>GO_N:3_M:10_T1:5_T2:0.2</td>\n",
       "      <td>3</td>\n",
       "      <td>10</td>\n",
       "      <td>5.0</td>\n",
       "      <td>0.2</td>\n",
       "      <td>398.826531</td>\n",
       "      <td>55.835714</td>\n",
       "      <td>0.140</td>\n",
       "    </tr>\n",
       "    <tr>\n",
       "      <th>46</th>\n",
       "      <td>GO_N:5_M:6_T1:5_T2:0.2</td>\n",
       "      <td>5</td>\n",
       "      <td>6</td>\n",
       "      <td>5.0</td>\n",
       "      <td>0.2</td>\n",
       "      <td>400.606387</td>\n",
       "      <td>57.286713</td>\n",
       "      <td>0.143</td>\n",
       "    </tr>\n",
       "    <tr>\n",
       "      <th>2</th>\n",
       "      <td>GO_N:2_M:10_T1:5_T2:0.2</td>\n",
       "      <td>2</td>\n",
       "      <td>10</td>\n",
       "      <td>5.0</td>\n",
       "      <td>0.2</td>\n",
       "      <td>410.621537</td>\n",
       "      <td>62.414474</td>\n",
       "      <td>0.152</td>\n",
       "    </tr>\n",
       "    <tr>\n",
       "      <th>35</th>\n",
       "      <td>GO_N:5_M:10_T1:5_T2:0.4</td>\n",
       "      <td>5</td>\n",
       "      <td>10</td>\n",
       "      <td>5.0</td>\n",
       "      <td>0.4</td>\n",
       "      <td>416.714892</td>\n",
       "      <td>60.006944</td>\n",
       "      <td>0.144</td>\n",
       "    </tr>\n",
       "    <tr>\n",
       "      <th>8</th>\n",
       "      <td>GO_N:2_M:50_T1:0.5_T2:0.2</td>\n",
       "      <td>2</td>\n",
       "      <td>50</td>\n",
       "      <td>0.5</td>\n",
       "      <td>0.2</td>\n",
       "      <td>421.097005</td>\n",
       "      <td>59.795775</td>\n",
       "      <td>0.142</td>\n",
       "    </tr>\n",
       "    <tr>\n",
       "      <th>47</th>\n",
       "      <td>GO_N:5_M:6_T1:5_T2:0.4</td>\n",
       "      <td>5</td>\n",
       "      <td>6</td>\n",
       "      <td>5.0</td>\n",
       "      <td>0.4</td>\n",
       "      <td>435.971513</td>\n",
       "      <td>53.188525</td>\n",
       "      <td>0.122</td>\n",
       "    </tr>\n",
       "    <tr>\n",
       "      <th>9</th>\n",
       "      <td>GO_N:2_M:50_T1:0.5_T2:0.4</td>\n",
       "      <td>2</td>\n",
       "      <td>50</td>\n",
       "      <td>0.5</td>\n",
       "      <td>0.4</td>\n",
       "      <td>436.288706</td>\n",
       "      <td>58.462687</td>\n",
       "      <td>0.134</td>\n",
       "    </tr>\n",
       "    <tr>\n",
       "      <th>34</th>\n",
       "      <td>GO_N:5_M:10_T1:5_T2:0.2</td>\n",
       "      <td>5</td>\n",
       "      <td>10</td>\n",
       "      <td>5.0</td>\n",
       "      <td>0.2</td>\n",
       "      <td>441.630392</td>\n",
       "      <td>58.736842</td>\n",
       "      <td>0.133</td>\n",
       "    </tr>\n",
       "    <tr>\n",
       "      <th>25</th>\n",
       "      <td>GO_N:3_M:50_T1:0.5_T2:0.4</td>\n",
       "      <td>3</td>\n",
       "      <td>50</td>\n",
       "      <td>0.5</td>\n",
       "      <td>0.4</td>\n",
       "      <td>453.962010</td>\n",
       "      <td>63.100719</td>\n",
       "      <td>0.139</td>\n",
       "    </tr>\n",
       "    <tr>\n",
       "      <th>24</th>\n",
       "      <td>GO_N:3_M:50_T1:0.5_T2:0.2</td>\n",
       "      <td>3</td>\n",
       "      <td>50</td>\n",
       "      <td>0.5</td>\n",
       "      <td>0.2</td>\n",
       "      <td>456.754612</td>\n",
       "      <td>64.859155</td>\n",
       "      <td>0.142</td>\n",
       "    </tr>\n",
       "    <tr>\n",
       "      <th>14</th>\n",
       "      <td>GO_N:2_M:6_T1:5_T2:0.2</td>\n",
       "      <td>2</td>\n",
       "      <td>6</td>\n",
       "      <td>5.0</td>\n",
       "      <td>0.2</td>\n",
       "      <td>458.441727</td>\n",
       "      <td>56.846774</td>\n",
       "      <td>0.124</td>\n",
       "    </tr>\n",
       "    <tr>\n",
       "      <th>19</th>\n",
       "      <td>GO_N:3_M:10_T1:5_T2:0.4</td>\n",
       "      <td>3</td>\n",
       "      <td>10</td>\n",
       "      <td>5.0</td>\n",
       "      <td>0.4</td>\n",
       "      <td>460.040920</td>\n",
       "      <td>58.425197</td>\n",
       "      <td>0.127</td>\n",
       "    </tr>\n",
       "    <tr>\n",
       "      <th>37</th>\n",
       "      <td>GO_N:5_M:200_T1:0.5_T2:0.4</td>\n",
       "      <td>5</td>\n",
       "      <td>200</td>\n",
       "      <td>0.5</td>\n",
       "      <td>0.4</td>\n",
       "      <td>469.135802</td>\n",
       "      <td>46.444444</td>\n",
       "      <td>0.099</td>\n",
       "    </tr>\n",
       "    <tr>\n",
       "      <th>15</th>\n",
       "      <td>GO_N:2_M:6_T1:5_T2:0.4</td>\n",
       "      <td>2</td>\n",
       "      <td>6</td>\n",
       "      <td>5.0</td>\n",
       "      <td>0.4</td>\n",
       "      <td>488.090737</td>\n",
       "      <td>56.130435</td>\n",
       "      <td>0.115</td>\n",
       "    </tr>\n",
       "    <tr>\n",
       "      <th>31</th>\n",
       "      <td>GO_N:3_M:6_T1:5_T2:0.4</td>\n",
       "      <td>3</td>\n",
       "      <td>6</td>\n",
       "      <td>5.0</td>\n",
       "      <td>0.4</td>\n",
       "      <td>528.835885</td>\n",
       "      <td>56.056604</td>\n",
       "      <td>0.106</td>\n",
       "    </tr>\n",
       "    <tr>\n",
       "      <th>5</th>\n",
       "      <td>GO_N:2_M:200_T1:0.5_T2:0.4</td>\n",
       "      <td>2</td>\n",
       "      <td>200</td>\n",
       "      <td>0.5</td>\n",
       "      <td>0.4</td>\n",
       "      <td>584.415584</td>\n",
       "      <td>45.000000</td>\n",
       "      <td>0.077</td>\n",
       "    </tr>\n",
       "    <tr>\n",
       "      <th>36</th>\n",
       "      <td>GO_N:5_M:200_T1:0.5_T2:0.2</td>\n",
       "      <td>5</td>\n",
       "      <td>200</td>\n",
       "      <td>0.5</td>\n",
       "      <td>0.2</td>\n",
       "      <td>601.604938</td>\n",
       "      <td>54.144444</td>\n",
       "      <td>0.090</td>\n",
       "    </tr>\n",
       "    <tr>\n",
       "      <th>20</th>\n",
       "      <td>GO_N:3_M:200_T1:0.5_T2:0.2</td>\n",
       "      <td>3</td>\n",
       "      <td>200</td>\n",
       "      <td>0.5</td>\n",
       "      <td>0.2</td>\n",
       "      <td>611.294896</td>\n",
       "      <td>56.239130</td>\n",
       "      <td>0.092</td>\n",
       "    </tr>\n",
       "    <tr>\n",
       "      <th>27</th>\n",
       "      <td>GO_N:3_M:50_T1:5_T2:0.4</td>\n",
       "      <td>3</td>\n",
       "      <td>50</td>\n",
       "      <td>5.0</td>\n",
       "      <td>0.4</td>\n",
       "      <td>616.689342</td>\n",
       "      <td>64.752381</td>\n",
       "      <td>0.105</td>\n",
       "    </tr>\n",
       "    <tr>\n",
       "      <th>26</th>\n",
       "      <td>GO_N:3_M:50_T1:5_T2:0.2</td>\n",
       "      <td>3</td>\n",
       "      <td>50</td>\n",
       "      <td>5.0</td>\n",
       "      <td>0.2</td>\n",
       "      <td>639.700000</td>\n",
       "      <td>63.970000</td>\n",
       "      <td>0.100</td>\n",
       "    </tr>\n",
       "    <tr>\n",
       "      <th>10</th>\n",
       "      <td>GO_N:2_M:50_T1:5_T2:0.2</td>\n",
       "      <td>2</td>\n",
       "      <td>50</td>\n",
       "      <td>5.0</td>\n",
       "      <td>0.2</td>\n",
       "      <td>641.676278</td>\n",
       "      <td>65.450980</td>\n",
       "      <td>0.102</td>\n",
       "    </tr>\n",
       "    <tr>\n",
       "      <th>42</th>\n",
       "      <td>GO_N:5_M:50_T1:5_T2:0.2</td>\n",
       "      <td>5</td>\n",
       "      <td>50</td>\n",
       "      <td>5.0</td>\n",
       "      <td>0.2</td>\n",
       "      <td>676.267404</td>\n",
       "      <td>65.597938</td>\n",
       "      <td>0.097</td>\n",
       "    </tr>\n",
       "    <tr>\n",
       "      <th>43</th>\n",
       "      <td>GO_N:5_M:50_T1:5_T2:0.4</td>\n",
       "      <td>5</td>\n",
       "      <td>50</td>\n",
       "      <td>5.0</td>\n",
       "      <td>0.4</td>\n",
       "      <td>696.468990</td>\n",
       "      <td>65.468085</td>\n",
       "      <td>0.094</td>\n",
       "    </tr>\n",
       "    <tr>\n",
       "      <th>11</th>\n",
       "      <td>GO_N:2_M:50_T1:5_T2:0.4</td>\n",
       "      <td>2</td>\n",
       "      <td>50</td>\n",
       "      <td>5.0</td>\n",
       "      <td>0.4</td>\n",
       "      <td>704.277954</td>\n",
       "      <td>66.202128</td>\n",
       "      <td>0.094</td>\n",
       "    </tr>\n",
       "    <tr>\n",
       "      <th>21</th>\n",
       "      <td>GO_N:3_M:200_T1:0.5_T2:0.4</td>\n",
       "      <td>3</td>\n",
       "      <td>200</td>\n",
       "      <td>0.5</td>\n",
       "      <td>0.4</td>\n",
       "      <td>709.595960</td>\n",
       "      <td>46.833333</td>\n",
       "      <td>0.066</td>\n",
       "    </tr>\n",
       "    <tr>\n",
       "      <th>38</th>\n",
       "      <td>GO_N:5_M:200_T1:5_T2:0.2</td>\n",
       "      <td>5</td>\n",
       "      <td>200</td>\n",
       "      <td>5.0</td>\n",
       "      <td>0.2</td>\n",
       "      <td>737.673010</td>\n",
       "      <td>50.161765</td>\n",
       "      <td>0.068</td>\n",
       "    </tr>\n",
       "    <tr>\n",
       "      <th>4</th>\n",
       "      <td>GO_N:2_M:200_T1:0.5_T2:0.2</td>\n",
       "      <td>2</td>\n",
       "      <td>200</td>\n",
       "      <td>0.5</td>\n",
       "      <td>0.2</td>\n",
       "      <td>738.919668</td>\n",
       "      <td>56.157895</td>\n",
       "      <td>0.076</td>\n",
       "    </tr>\n",
       "    <tr>\n",
       "      <th>39</th>\n",
       "      <td>GO_N:5_M:200_T1:5_T2:0.4</td>\n",
       "      <td>5</td>\n",
       "      <td>200</td>\n",
       "      <td>5.0</td>\n",
       "      <td>0.4</td>\n",
       "      <td>865.090030</td>\n",
       "      <td>52.770492</td>\n",
       "      <td>0.061</td>\n",
       "    </tr>\n",
       "    <tr>\n",
       "      <th>22</th>\n",
       "      <td>GO_N:3_M:200_T1:5_T2:0.2</td>\n",
       "      <td>3</td>\n",
       "      <td>200</td>\n",
       "      <td>5.0</td>\n",
       "      <td>0.2</td>\n",
       "      <td>871.345029</td>\n",
       "      <td>49.666667</td>\n",
       "      <td>0.057</td>\n",
       "    </tr>\n",
       "    <tr>\n",
       "      <th>23</th>\n",
       "      <td>GO_N:3_M:200_T1:5_T2:0.4</td>\n",
       "      <td>3</td>\n",
       "      <td>200</td>\n",
       "      <td>5.0</td>\n",
       "      <td>0.4</td>\n",
       "      <td>994.318182</td>\n",
       "      <td>43.750000</td>\n",
       "      <td>0.044</td>\n",
       "    </tr>\n",
       "    <tr>\n",
       "      <th>7</th>\n",
       "      <td>GO_N:2_M:200_T1:5_T2:0.4</td>\n",
       "      <td>2</td>\n",
       "      <td>200</td>\n",
       "      <td>5.0</td>\n",
       "      <td>0.4</td>\n",
       "      <td>1335.316387</td>\n",
       "      <td>57.418605</td>\n",
       "      <td>0.043</td>\n",
       "    </tr>\n",
       "    <tr>\n",
       "      <th>6</th>\n",
       "      <td>GO_N:2_M:200_T1:5_T2:0.2</td>\n",
       "      <td>2</td>\n",
       "      <td>200</td>\n",
       "      <td>5.0</td>\n",
       "      <td>0.2</td>\n",
       "      <td>1362.308254</td>\n",
       "      <td>50.405405</td>\n",
       "      <td>0.037</td>\n",
       "    </tr>\n",
       "  </tbody>\n",
       "</table>\n",
       "</div>"
      ],
      "text/plain": [
       "                          heur  n    m  temp1  temp2          feo        mne  \\\n",
       "17   GO_N:3_M:10_T1:0.5_T2:0.4  3   10    0.5    0.4   245.085292  55.634361   \n",
       "28    GO_N:3_M:6_T1:0.5_T2:0.2  3    6    0.5    0.2   247.435556  54.683258   \n",
       "32   GO_N:5_M:10_T1:0.5_T2:0.2  5   10    0.5    0.2   256.198347  56.363636   \n",
       "13    GO_N:2_M:6_T1:0.5_T2:0.4  2    6    0.5    0.4   260.491763  49.753927   \n",
       "29    GO_N:3_M:6_T1:0.5_T2:0.4  3    6    0.5    0.4   270.477896  55.718447   \n",
       "44    GO_N:5_M:6_T1:0.5_T2:0.2  5    6    0.5    0.2   275.407562  51.225806   \n",
       "0    GO_N:2_M:10_T1:0.5_T2:0.2  2   10    0.5    0.2   282.850000  56.570000   \n",
       "16   GO_N:3_M:10_T1:0.5_T2:0.2  3   10    0.5    0.2   286.736594  57.920792   \n",
       "45    GO_N:5_M:6_T1:0.5_T2:0.4  5    6    0.5    0.4   289.868381  57.393939   \n",
       "1    GO_N:2_M:10_T1:0.5_T2:0.4  2   10    0.5    0.4   306.523000  55.480663   \n",
       "12    GO_N:2_M:6_T1:0.5_T2:0.2  2    6    0.5    0.2   309.775697  57.618280   \n",
       "33   GO_N:5_M:10_T1:0.5_T2:0.4  5   10    0.5    0.4   319.098929  57.756906   \n",
       "3      GO_N:2_M:10_T1:5_T2:0.4  2   10    5.0    0.4   346.362510  52.993464   \n",
       "30      GO_N:3_M:6_T1:5_T2:0.2  3    6    5.0    0.2   373.263889  53.750000   \n",
       "41   GO_N:5_M:50_T1:0.5_T2:0.4  5   50    0.5    0.4   377.226562  60.356250   \n",
       "40   GO_N:5_M:50_T1:0.5_T2:0.2  5   50    0.5    0.2   393.387601  63.335404   \n",
       "18     GO_N:3_M:10_T1:5_T2:0.2  3   10    5.0    0.2   398.826531  55.835714   \n",
       "46      GO_N:5_M:6_T1:5_T2:0.2  5    6    5.0    0.2   400.606387  57.286713   \n",
       "2      GO_N:2_M:10_T1:5_T2:0.2  2   10    5.0    0.2   410.621537  62.414474   \n",
       "35     GO_N:5_M:10_T1:5_T2:0.4  5   10    5.0    0.4   416.714892  60.006944   \n",
       "8    GO_N:2_M:50_T1:0.5_T2:0.2  2   50    0.5    0.2   421.097005  59.795775   \n",
       "47      GO_N:5_M:6_T1:5_T2:0.4  5    6    5.0    0.4   435.971513  53.188525   \n",
       "9    GO_N:2_M:50_T1:0.5_T2:0.4  2   50    0.5    0.4   436.288706  58.462687   \n",
       "34     GO_N:5_M:10_T1:5_T2:0.2  5   10    5.0    0.2   441.630392  58.736842   \n",
       "25   GO_N:3_M:50_T1:0.5_T2:0.4  3   50    0.5    0.4   453.962010  63.100719   \n",
       "24   GO_N:3_M:50_T1:0.5_T2:0.2  3   50    0.5    0.2   456.754612  64.859155   \n",
       "14      GO_N:2_M:6_T1:5_T2:0.2  2    6    5.0    0.2   458.441727  56.846774   \n",
       "19     GO_N:3_M:10_T1:5_T2:0.4  3   10    5.0    0.4   460.040920  58.425197   \n",
       "37  GO_N:5_M:200_T1:0.5_T2:0.4  5  200    0.5    0.4   469.135802  46.444444   \n",
       "15      GO_N:2_M:6_T1:5_T2:0.4  2    6    5.0    0.4   488.090737  56.130435   \n",
       "31      GO_N:3_M:6_T1:5_T2:0.4  3    6    5.0    0.4   528.835885  56.056604   \n",
       "5   GO_N:2_M:200_T1:0.5_T2:0.4  2  200    0.5    0.4   584.415584  45.000000   \n",
       "36  GO_N:5_M:200_T1:0.5_T2:0.2  5  200    0.5    0.2   601.604938  54.144444   \n",
       "20  GO_N:3_M:200_T1:0.5_T2:0.2  3  200    0.5    0.2   611.294896  56.239130   \n",
       "27     GO_N:3_M:50_T1:5_T2:0.4  3   50    5.0    0.4   616.689342  64.752381   \n",
       "26     GO_N:3_M:50_T1:5_T2:0.2  3   50    5.0    0.2   639.700000  63.970000   \n",
       "10     GO_N:2_M:50_T1:5_T2:0.2  2   50    5.0    0.2   641.676278  65.450980   \n",
       "42     GO_N:5_M:50_T1:5_T2:0.2  5   50    5.0    0.2   676.267404  65.597938   \n",
       "43     GO_N:5_M:50_T1:5_T2:0.4  5   50    5.0    0.4   696.468990  65.468085   \n",
       "11     GO_N:2_M:50_T1:5_T2:0.4  2   50    5.0    0.4   704.277954  66.202128   \n",
       "21  GO_N:3_M:200_T1:0.5_T2:0.4  3  200    0.5    0.4   709.595960  46.833333   \n",
       "38    GO_N:5_M:200_T1:5_T2:0.2  5  200    5.0    0.2   737.673010  50.161765   \n",
       "4   GO_N:2_M:200_T1:0.5_T2:0.2  2  200    0.5    0.2   738.919668  56.157895   \n",
       "39    GO_N:5_M:200_T1:5_T2:0.4  5  200    5.0    0.4   865.090030  52.770492   \n",
       "22    GO_N:3_M:200_T1:5_T2:0.2  3  200    5.0    0.2   871.345029  49.666667   \n",
       "23    GO_N:3_M:200_T1:5_T2:0.4  3  200    5.0    0.4   994.318182  43.750000   \n",
       "7     GO_N:2_M:200_T1:5_T2:0.4  2  200    5.0    0.4  1335.316387  57.418605   \n",
       "6     GO_N:2_M:200_T1:5_T2:0.2  2  200    5.0    0.2  1362.308254  50.405405   \n",
       "\n",
       "      rel  \n",
       "17  0.227  \n",
       "28  0.221  \n",
       "32  0.220  \n",
       "13  0.191  \n",
       "29  0.206  \n",
       "44  0.186  \n",
       "0   0.200  \n",
       "16  0.202  \n",
       "45  0.198  \n",
       "1   0.181  \n",
       "12  0.186  \n",
       "33  0.181  \n",
       "3   0.153  \n",
       "30  0.144  \n",
       "41  0.160  \n",
       "40  0.161  \n",
       "18  0.140  \n",
       "46  0.143  \n",
       "2   0.152  \n",
       "35  0.144  \n",
       "8   0.142  \n",
       "47  0.122  \n",
       "9   0.134  \n",
       "34  0.133  \n",
       "25  0.139  \n",
       "24  0.142  \n",
       "14  0.124  \n",
       "19  0.127  \n",
       "37  0.099  \n",
       "15  0.115  \n",
       "31  0.106  \n",
       "5   0.077  \n",
       "36  0.090  \n",
       "20  0.092  \n",
       "27  0.105  \n",
       "26  0.100  \n",
       "10  0.102  \n",
       "42  0.097  \n",
       "43  0.094  \n",
       "11  0.094  \n",
       "21  0.066  \n",
       "38  0.068  \n",
       "4   0.076  \n",
       "39  0.061  \n",
       "22  0.057  \n",
       "23  0.044  \n",
       "7   0.043  \n",
       "6   0.037  "
      ]
     },
     "execution_count": 14,
     "metadata": {},
     "output_type": "execute_result"
    }
   ],
   "source": [
    "results_pivot = results.pivot_table(\n",
    "    index=['heur', 'n', 'm', 'temp1', 'temp2'],\n",
    "    values=['neval'],\n",
    "    aggfunc=(rel, mne, feo)\n",
    ")['neval']\n",
    "results_pivot = results_pivot.reset_index()\n",
    "results_pivot.sort_values(by='feo')"
   ]
  },
  {
   "cell_type": "markdown",
   "metadata": {},
   "source": [
    "The best-performing and chosen hyperparameter options are: \n",
    "\n",
    "* $N = 3$\n",
    "\n",
    "* $M = 10$\n",
    "\n",
    "* $T_1 = 0.5$\n",
    "\n",
    "* $T_2 = 0.4$"
   ]
  },
  {
   "cell_type": "markdown",
   "metadata": {},
   "source": [
    "The best-performing hyperparameters for **GO** on **``TSPGrid(3, 3)``** are:"
   ]
  },
  {
   "cell_type": "code",
   "execution_count": 15,
   "metadata": {},
   "outputs": [
    {
     "data": {
      "text/html": [
       "<div>\n",
       "<style scoped>\n",
       "    .dataframe tbody tr th:only-of-type {\n",
       "        vertical-align: middle;\n",
       "    }\n",
       "\n",
       "    .dataframe tbody tr th {\n",
       "        vertical-align: top;\n",
       "    }\n",
       "\n",
       "    .dataframe thead th {\n",
       "        text-align: right;\n",
       "    }\n",
       "</style>\n",
       "<table border=\"1\" class=\"dataframe\">\n",
       "  <thead>\n",
       "    <tr style=\"text-align: right;\">\n",
       "      <th></th>\n",
       "      <th>heur</th>\n",
       "      <th>n</th>\n",
       "      <th>m</th>\n",
       "      <th>temp1</th>\n",
       "      <th>temp2</th>\n",
       "      <th>feo</th>\n",
       "      <th>mne</th>\n",
       "      <th>rel</th>\n",
       "    </tr>\n",
       "  </thead>\n",
       "  <tbody>\n",
       "    <tr>\n",
       "      <th>17</th>\n",
       "      <td>GO_N:3_M:10_T1:0.5_T2:0.4</td>\n",
       "      <td>3</td>\n",
       "      <td>10</td>\n",
       "      <td>0.5</td>\n",
       "      <td>0.4</td>\n",
       "      <td>245.085292</td>\n",
       "      <td>55.634361</td>\n",
       "      <td>0.227</td>\n",
       "    </tr>\n",
       "  </tbody>\n",
       "</table>\n",
       "</div>"
      ],
      "text/plain": [
       "                         heur  n   m  temp1  temp2         feo        mne  \\\n",
       "17  GO_N:3_M:10_T1:0.5_T2:0.4  3  10    0.5    0.4  245.085292  55.634361   \n",
       "\n",
       "      rel  \n",
       "17  0.227  "
      ]
     },
     "execution_count": 15,
     "metadata": {},
     "output_type": "execute_result"
    }
   ],
   "source": [
    "results_pivot.sort_values(by=['feo']).head(1)"
   ]
  },
  {
   "cell_type": "markdown",
   "metadata": {},
   "source": [
    "Thus, the chosen **GO** is a heuristic with hyperparameters:\n",
    "\n",
    "* crossover: UniformMultipoint(2)\n",
    "\n",
    "* mutation: CauchyMutation(r=1, correction=Correction())\n",
    "\n",
    "* correction: vanilla Correction()\n",
    "\n",
    "* $N = 3$\n",
    "\n",
    "* $M = 10$\n",
    "\n",
    "* $T_1 = 0.5$\n",
    "\n",
    "* $T_2 = 0.4$\n",
    "\n",
    "This settings of **GO** will be used for comparison between **GO** and **Elitism**."
   ]
  },
  {
   "cell_type": "code",
   "execution_count": 7,
   "metadata": {},
   "outputs": [],
   "source": [
    "mutation=CauchyMutation(r=1, correction=Correction(tsp))\n",
    "crossover=UniformMultipoint(1)\n",
    "N=3\n",
    "M=10\n",
    "T1=0.5\n",
    "T2=0.4"
   ]
  },
  {
   "cell_type": "markdown",
   "metadata": {},
   "source": [
    "## 2. Elitism & 3. Parasitism"
   ]
  },
  {
   "cell_type": "markdown",
   "metadata": {},
   "source": [
    "In this proposal, **Elitism** is understood as a free passage of a certain percentage of best individuals into the next population without mutation or crossover operations. On the other hand, **Parasitism** means a free passage of the worst individuals.\n",
    "\n",
    "For serious comparsion between GO and Elitism we will increase ``NUM_RUNS`` to 5,000."
   ]
  },
  {
   "cell_type": "code",
   "execution_count": 8,
   "metadata": {},
   "outputs": [],
   "source": [
    "from heur_elitism import Elitism, Elitism_Parasitism "
   ]
  },
  {
   "cell_type": "code",
   "execution_count": 9,
   "metadata": {},
   "outputs": [],
   "source": [
    "NUM_RUNS = 5000\n",
    "maxeval = 100"
   ]
  },
  {
   "cell_type": "code",
   "execution_count": 10,
   "metadata": {},
   "outputs": [
    {
     "data": {
      "application/vnd.jupyter.widget-view+json": {
       "model_id": "0e1da9be117c4f51ab4236be95d432b4",
       "version_major": 2,
       "version_minor": 0
      },
      "text/plain": [
       "HBox(children=(IntProgress(value=0, description='Testing GO', max=5000, style=ProgressStyle(description_width=…"
      ]
     },
     "metadata": {},
     "output_type": "display_data"
    },
    {
     "name": "stdout",
     "output_type": "stream",
     "text": [
      "\n"
     ]
    },
    {
     "data": {
      "application/vnd.jupyter.widget-view+json": {
       "model_id": "239805894b3245f8b7794f5c414bb910",
       "version_major": 2,
       "version_minor": 0
      },
      "text/plain": [
       "HBox(children=(IntProgress(value=0, description='Testing ELIT_ratio:0.3', max=5000, style=ProgressStyle(descri…"
      ]
     },
     "metadata": {},
     "output_type": "display_data"
    },
    {
     "name": "stdout",
     "output_type": "stream",
     "text": [
      "\n"
     ]
    },
    {
     "data": {
      "application/vnd.jupyter.widget-view+json": {
       "model_id": "9b76239a19724fac8b301fd8724355dc",
       "version_major": 2,
       "version_minor": 0
      },
      "text/plain": [
       "HBox(children=(IntProgress(value=0, description='Testing ELIT_ratio:0.6', max=5000, style=ProgressStyle(descri…"
      ]
     },
     "metadata": {},
     "output_type": "display_data"
    },
    {
     "name": "stdout",
     "output_type": "stream",
     "text": [
      "\n"
     ]
    },
    {
     "data": {
      "application/vnd.jupyter.widget-view+json": {
       "model_id": "4df5d91babdf4495baa985c3d3cbf3b6",
       "version_major": 2,
       "version_minor": 0
      },
      "text/plain": [
       "HBox(children=(IntProgress(value=0, description='Testing ELIT_ratio:1', max=5000, style=ProgressStyle(descript…"
      ]
     },
     "metadata": {},
     "output_type": "display_data"
    },
    {
     "name": "stdout",
     "output_type": "stream",
     "text": [
      "\n"
     ]
    },
    {
     "data": {
      "application/vnd.jupyter.widget-view+json": {
       "model_id": "06c8e11efa9d49ee9478f5f6f826e904",
       "version_major": 2,
       "version_minor": 0
      },
      "text/plain": [
       "HBox(children=(IntProgress(value=0, description='Testing ELIT_PARAS_ratio:0.3', max=5000, style=ProgressStyle(…"
      ]
     },
     "metadata": {},
     "output_type": "display_data"
    },
    {
     "name": "stdout",
     "output_type": "stream",
     "text": [
      "\n"
     ]
    },
    {
     "data": {
      "application/vnd.jupyter.widget-view+json": {
       "model_id": "eb1cacbab7484f7cbcff64d2fbd4c169",
       "version_major": 2,
       "version_minor": 0
      },
      "text/plain": [
       "HBox(children=(IntProgress(value=0, description='Testing ELIT_PARAS_ratio:0.6', max=5000, style=ProgressStyle(…"
      ]
     },
     "metadata": {},
     "output_type": "display_data"
    },
    {
     "name": "stdout",
     "output_type": "stream",
     "text": [
      "\n"
     ]
    },
    {
     "data": {
      "application/vnd.jupyter.widget-view+json": {
       "model_id": "31d6f6bf831748fdaf5c86b9bb4059e5",
       "version_major": 2,
       "version_minor": 0
      },
      "text/plain": [
       "HBox(children=(IntProgress(value=0, description='Testing ELIT_PARAS_ratio:1', max=5000, style=ProgressStyle(de…"
      ]
     },
     "metadata": {},
     "output_type": "display_data"
    },
    {
     "name": "stdout",
     "output_type": "stream",
     "text": [
      "\n"
     ]
    }
   ],
   "source": [
    "results = pd.DataFrame()\n",
    "runs = []\n",
    "heur_name = 'GO'\n",
    "for i in tqdm_notebook(range(NUM_RUNS), 'Testing {}'.format(heur_name)):\n",
    "    run = GeneticOptimization(tsp, maxeval, N=N, M=M, Tsel1=T1, Tsel2=T2, \n",
    "                              mutation=mutation,\n",
    "                              crossover=crossover).search()\n",
    "    run['run'] = i\n",
    "    run['heur'] = heur_name\n",
    "    run['N'] = N\n",
    "    run['M'] = M\n",
    "    run['T1'] = T1\n",
    "    run['T2'] = T2\n",
    "    runs.append(run)    \n",
    "res_df = pd.DataFrame(runs, columns=['heur', 'run', 'N', 'M','T1', 'T2', 'best_x', 'best_y', 'neval'])\n",
    "results = pd.concat([results, res_df], axis=0)\n",
    "\n",
    "ratios = [0.3, 0.6, 1] \n",
    "#relates to [1, 2, 3] elites\n",
    "#corresponds to [10 %, 20 %, 30 %] in the new population\n",
    "for ratio in ratios:\n",
    "    heur_name = 'ELIT_ratio:{}'.format(ratio)\n",
    "    for i in tqdm_notebook(range(NUM_RUNS), 'Testing {}'.format(heur_name)):\n",
    "        run = Elitism(tsp, maxeval, N=N, M=M, ratio=ratio, Tsel1=T1, Tsel2=T2, \n",
    "                             mutation=mutation, crossover=crossover).search()\n",
    "        run['run'] = i\n",
    "        run['heur'] = heur_name\n",
    "        run['N'] = N\n",
    "        run['M'] = M\n",
    "        run['T1'] = T1\n",
    "        run['T2'] = T2\n",
    "        runs.append(run)   \n",
    "    res_df = pd.DataFrame(runs, columns=['heur', 'run', 'N', 'M','T1', 'T2', 'best_x', 'best_y', 'neval'])\n",
    "    results = pd.concat([results, res_df], axis=0)\n",
    "\n",
    "#relates to [1, 2, 3] parasites\n",
    "#corresponds to [10 %, 20 %, 30 %] in the new population\n",
    "for ratio in ratios:\n",
    "    heur_name = 'ELIT_PARAS_ratio:{}'.format(ratio)\n",
    "    for i in tqdm_notebook(range(NUM_RUNS), 'Testing {}'.format(heur_name)):\n",
    "        run = Elitism_Parasitism(tsp, maxeval, N=N, M=M, ratio=ratio, Tsel1=T1, Tsel2=T2, \n",
    "                             mutation=mutation, crossover=crossover).search()\n",
    "        run['run'] = i\n",
    "        run['heur'] = heur_name\n",
    "        run['N'] = N\n",
    "        run['M'] = M\n",
    "        run['T1'] = T1\n",
    "        run['T2'] = T2\n",
    "        runs.append(run)   \n",
    "    res_df = pd.DataFrame(runs, columns=['heur', 'run', 'N', 'M','T1', 'T2', 'best_x', 'best_y', 'neval'])\n",
    "    results = pd.concat([results, res_df], axis=0)"
   ]
  },
  {
   "cell_type": "code",
   "execution_count": 11,
   "metadata": {},
   "outputs": [
    {
     "data": {
      "text/html": [
       "<div>\n",
       "<style scoped>\n",
       "    .dataframe tbody tr th:only-of-type {\n",
       "        vertical-align: middle;\n",
       "    }\n",
       "\n",
       "    .dataframe tbody tr th {\n",
       "        vertical-align: top;\n",
       "    }\n",
       "\n",
       "    .dataframe thead th {\n",
       "        text-align: right;\n",
       "    }\n",
       "</style>\n",
       "<table border=\"1\" class=\"dataframe\">\n",
       "  <thead>\n",
       "    <tr style=\"text-align: right;\">\n",
       "      <th></th>\n",
       "      <th>heur</th>\n",
       "      <th>N</th>\n",
       "      <th>M</th>\n",
       "      <th>feo</th>\n",
       "      <th>mne</th>\n",
       "      <th>rel</th>\n",
       "    </tr>\n",
       "  </thead>\n",
       "  <tbody>\n",
       "    <tr>\n",
       "      <th>4</th>\n",
       "      <td>ELIT_ratio:0.6</td>\n",
       "      <td>3</td>\n",
       "      <td>10</td>\n",
       "      <td>244.625419</td>\n",
       "      <td>56.312772</td>\n",
       "      <td>0.2302</td>\n",
       "    </tr>\n",
       "    <tr>\n",
       "      <th>5</th>\n",
       "      <td>ELIT_ratio:1</td>\n",
       "      <td>3</td>\n",
       "      <td>10</td>\n",
       "      <td>248.423585</td>\n",
       "      <td>55.994676</td>\n",
       "      <td>0.2254</td>\n",
       "    </tr>\n",
       "    <tr>\n",
       "      <th>3</th>\n",
       "      <td>ELIT_ratio:0.3</td>\n",
       "      <td>3</td>\n",
       "      <td>10</td>\n",
       "      <td>272.523121</td>\n",
       "      <td>57.829406</td>\n",
       "      <td>0.2122</td>\n",
       "    </tr>\n",
       "    <tr>\n",
       "      <th>6</th>\n",
       "      <td>GO</td>\n",
       "      <td>3</td>\n",
       "      <td>10</td>\n",
       "      <td>275.415706</td>\n",
       "      <td>57.176301</td>\n",
       "      <td>0.2076</td>\n",
       "    </tr>\n",
       "    <tr>\n",
       "      <th>0</th>\n",
       "      <td>ELIT_PARAS_ratio:0.3</td>\n",
       "      <td>3</td>\n",
       "      <td>10</td>\n",
       "      <td>893.271627</td>\n",
       "      <td>47.343396</td>\n",
       "      <td>0.0530</td>\n",
       "    </tr>\n",
       "    <tr>\n",
       "      <th>1</th>\n",
       "      <td>ELIT_PARAS_ratio:0.6</td>\n",
       "      <td>3</td>\n",
       "      <td>10</td>\n",
       "      <td>1453.069719</td>\n",
       "      <td>45.045161</td>\n",
       "      <td>0.0310</td>\n",
       "    </tr>\n",
       "    <tr>\n",
       "      <th>2</th>\n",
       "      <td>ELIT_PARAS_ratio:1</td>\n",
       "      <td>3</td>\n",
       "      <td>10</td>\n",
       "      <td>1574.769482</td>\n",
       "      <td>51.652439</td>\n",
       "      <td>0.0328</td>\n",
       "    </tr>\n",
       "  </tbody>\n",
       "</table>\n",
       "</div>"
      ],
      "text/plain": [
       "                   heur  N   M          feo        mne     rel\n",
       "4        ELIT_ratio:0.6  3  10   244.625419  56.312772  0.2302\n",
       "5          ELIT_ratio:1  3  10   248.423585  55.994676  0.2254\n",
       "3        ELIT_ratio:0.3  3  10   272.523121  57.829406  0.2122\n",
       "6                    GO  3  10   275.415706  57.176301  0.2076\n",
       "0  ELIT_PARAS_ratio:0.3  3  10   893.271627  47.343396  0.0530\n",
       "1  ELIT_PARAS_ratio:0.6  3  10  1453.069719  45.045161  0.0310\n",
       "2    ELIT_PARAS_ratio:1  3  10  1574.769482  51.652439  0.0328"
      ]
     },
     "execution_count": 11,
     "metadata": {},
     "output_type": "execute_result"
    }
   ],
   "source": [
    "results_pivot = results.pivot_table(\n",
    "    index=['heur', 'N', 'M'],\n",
    "    values=['neval'],\n",
    "    aggfunc=(rel, mne, feo)\n",
    ")['neval']\n",
    "results_pivot = results_pivot.reset_index()\n",
    "results_pivot.sort_values(by=['feo'])"
   ]
  },
  {
   "cell_type": "markdown",
   "metadata": {},
   "source": [
    "Let $N$ and $M$ be much higher in order to evaluate the goodness of Elitism. The code will be repeated for previous kind of settings."
   ]
  },
  {
   "cell_type": "code",
   "execution_count": 12,
   "metadata": {},
   "outputs": [],
   "source": [
    "N=200\n",
    "M=1000\n",
    "T1=0.5\n",
    "T2=0.2\n",
    "mutation=CauchyMutation(r=1, correction=Correction(tsp))\n",
    "crossover=UniformMultipoint(1)"
   ]
  },
  {
   "cell_type": "code",
   "execution_count": 13,
   "metadata": {},
   "outputs": [
    {
     "data": {
      "application/vnd.jupyter.widget-view+json": {
       "model_id": "d133b8b68f80429abd4b641cbca8dc1d",
       "version_major": 2,
       "version_minor": 0
      },
      "text/plain": [
       "HBox(children=(IntProgress(value=0, description='Testing GO', max=5000, style=ProgressStyle(description_width=…"
      ]
     },
     "metadata": {},
     "output_type": "display_data"
    },
    {
     "name": "stdout",
     "output_type": "stream",
     "text": [
      "\n"
     ]
    },
    {
     "data": {
      "application/vnd.jupyter.widget-view+json": {
       "model_id": "d0bd303c8fe84eaea5a9626aab2f156a",
       "version_major": 2,
       "version_minor": 0
      },
      "text/plain": [
       "HBox(children=(IntProgress(value=0, description='Testing ELIT_ratio:0.125', max=5000, style=ProgressStyle(desc…"
      ]
     },
     "metadata": {},
     "output_type": "display_data"
    },
    {
     "name": "stdout",
     "output_type": "stream",
     "text": [
      "\n"
     ]
    },
    {
     "data": {
      "application/vnd.jupyter.widget-view+json": {
       "model_id": "fa84e09c0eef40cbb0d4cb358887e642",
       "version_major": 2,
       "version_minor": 0
      },
      "text/plain": [
       "HBox(children=(IntProgress(value=0, description='Testing ELIT_ratio:0.25', max=5000, style=ProgressStyle(descr…"
      ]
     },
     "metadata": {},
     "output_type": "display_data"
    },
    {
     "name": "stdout",
     "output_type": "stream",
     "text": [
      "\n"
     ]
    },
    {
     "data": {
      "application/vnd.jupyter.widget-view+json": {
       "model_id": "0663258d3ec4456eb0fa9218e0f1b469",
       "version_major": 2,
       "version_minor": 0
      },
      "text/plain": [
       "HBox(children=(IntProgress(value=0, description='Testing ELIT_ratio:0.5', max=5000, style=ProgressStyle(descri…"
      ]
     },
     "metadata": {},
     "output_type": "display_data"
    },
    {
     "name": "stdout",
     "output_type": "stream",
     "text": [
      "\n"
     ]
    },
    {
     "data": {
      "application/vnd.jupyter.widget-view+json": {
       "model_id": "1dcddf9204fc483395341b963bcabae1",
       "version_major": 2,
       "version_minor": 0
      },
      "text/plain": [
       "HBox(children=(IntProgress(value=0, description='Testing ELIT_ratio:0.75', max=5000, style=ProgressStyle(descr…"
      ]
     },
     "metadata": {},
     "output_type": "display_data"
    },
    {
     "name": "stdout",
     "output_type": "stream",
     "text": [
      "\n"
     ]
    },
    {
     "data": {
      "application/vnd.jupyter.widget-view+json": {
       "model_id": "c025373e800e45e89b50b388a50f9dbc",
       "version_major": 2,
       "version_minor": 0
      },
      "text/plain": [
       "HBox(children=(IntProgress(value=0, description='Testing ELIT_ratio:1', max=5000, style=ProgressStyle(descript…"
      ]
     },
     "metadata": {},
     "output_type": "display_data"
    },
    {
     "name": "stdout",
     "output_type": "stream",
     "text": [
      "\n"
     ]
    },
    {
     "data": {
      "application/vnd.jupyter.widget-view+json": {
       "model_id": "bf4cdc8c799440ff91be5d62e2a2a1b9",
       "version_major": 2,
       "version_minor": 0
      },
      "text/plain": [
       "HBox(children=(IntProgress(value=0, description='Testing ELIT_PARAS_ratio:0.125', max=5000, style=ProgressStyl…"
      ]
     },
     "metadata": {},
     "output_type": "display_data"
    },
    {
     "name": "stdout",
     "output_type": "stream",
     "text": [
      "\n"
     ]
    },
    {
     "data": {
      "application/vnd.jupyter.widget-view+json": {
       "model_id": "5d6543a8e17b44798dd77e511805460d",
       "version_major": 2,
       "version_minor": 0
      },
      "text/plain": [
       "HBox(children=(IntProgress(value=0, description='Testing ELIT_PARAS_ratio:0.25', max=5000, style=ProgressStyle…"
      ]
     },
     "metadata": {},
     "output_type": "display_data"
    },
    {
     "name": "stdout",
     "output_type": "stream",
     "text": [
      "\n"
     ]
    },
    {
     "data": {
      "application/vnd.jupyter.widget-view+json": {
       "model_id": "30508101b16a4cea8fbd2ff8a0852c21",
       "version_major": 2,
       "version_minor": 0
      },
      "text/plain": [
       "HBox(children=(IntProgress(value=0, description='Testing ELIT_PARAS_ratio:0.5', max=5000, style=ProgressStyle(…"
      ]
     },
     "metadata": {},
     "output_type": "display_data"
    },
    {
     "name": "stdout",
     "output_type": "stream",
     "text": [
      "\n"
     ]
    },
    {
     "data": {
      "application/vnd.jupyter.widget-view+json": {
       "model_id": "ff5c67afe178403db099a570ed21b81c",
       "version_major": 2,
       "version_minor": 0
      },
      "text/plain": [
       "HBox(children=(IntProgress(value=0, description='Testing ELIT_PARAS_ratio:0.75', max=5000, style=ProgressStyle…"
      ]
     },
     "metadata": {},
     "output_type": "display_data"
    },
    {
     "name": "stdout",
     "output_type": "stream",
     "text": [
      "\n"
     ]
    },
    {
     "data": {
      "application/vnd.jupyter.widget-view+json": {
       "model_id": "de38fee49551463f8a0660791edb231c",
       "version_major": 2,
       "version_minor": 0
      },
      "text/plain": [
       "HBox(children=(IntProgress(value=0, description='Testing ELIT_PARAS_ratio:1', max=5000, style=ProgressStyle(de…"
      ]
     },
     "metadata": {},
     "output_type": "display_data"
    },
    {
     "name": "stdout",
     "output_type": "stream",
     "text": [
      "\n"
     ]
    }
   ],
   "source": [
    "results = pd.DataFrame()\n",
    "runs = []\n",
    "heur_name = 'GO'\n",
    "for i in tqdm_notebook(range(NUM_RUNS), 'Testing {}'.format(heur_name)):\n",
    "    run = GeneticOptimization(tsp, maxeval, N=N, M=M, Tsel1=T1, Tsel2=T2, \n",
    "                              mutation=mutation,\n",
    "                              crossover=crossover).search()\n",
    "    run['run'] = i\n",
    "    run['heur'] = heur_name\n",
    "    run['N'] = N\n",
    "    run['M'] = M\n",
    "    run['T1'] = T1\n",
    "    run['T2'] = T2\n",
    "    runs.append(run)    \n",
    "res_df = pd.DataFrame(runs, columns=['heur', 'run', 'N', 'M','T1', 'T2', 'best_x', 'best_y', 'neval'])\n",
    "results = pd.concat([results, res_df], axis=0)\n",
    "\n",
    "ratios = [0.125, 0.25, 0.5, 0.75, 1] \n",
    "#relates to [25, 50, 100, 150, 200] elites\n",
    "#corresponds to [2.5 %, 5 %, 10 %, 15 %, 20 %] in the new population\n",
    "for ratio in ratios:\n",
    "    heur_name = 'ELIT_ratio:{}'.format(ratio)\n",
    "    for i in tqdm_notebook(range(NUM_RUNS), 'Testing {}'.format(heur_name)):\n",
    "        run = Elitism(tsp, maxeval, N=N, M=M, ratio=ratio, Tsel1=T1, Tsel2=T2, \n",
    "                             mutation=mutation, crossover=crossover).search()\n",
    "        run['run'] = i\n",
    "        run['heur'] = heur_name\n",
    "        run['N'] = N\n",
    "        run['M'] = M\n",
    "        run['T1'] = T1\n",
    "        run['T2'] = T2\n",
    "        runs.append(run)   \n",
    "    res_df = pd.DataFrame(runs, columns=['heur', 'run', 'N', 'M','T1', 'T2', 'best_x', 'best_y', 'neval'])\n",
    "    results = pd.concat([results, res_df], axis=0)\n",
    "\n",
    "#relates to [25, 50, 100, 150, 200] parasites\n",
    "#corresponds to [2.5 %, 5 %, 10 %, 15 %, 20 %] in the new population\n",
    "for ratio in ratios:\n",
    "    heur_name = 'ELIT_PARAS_ratio:{}'.format(ratio)\n",
    "    for i in tqdm_notebook(range(NUM_RUNS), 'Testing {}'.format(heur_name)):\n",
    "        run = Elitism_Parasitism(tsp, maxeval, N=N, M=M, ratio=ratio, Tsel1=T1, Tsel2=T2, \n",
    "                             mutation=mutation, crossover=crossover).search()\n",
    "        run['run'] = i\n",
    "        run['heur'] = heur_name\n",
    "        run['N'] = N\n",
    "        run['M'] = M\n",
    "        run['T1'] = T1\n",
    "        run['T2'] = T2\n",
    "        runs.append(run)   \n",
    "    res_df = pd.DataFrame(runs, columns=['heur', 'run', 'N', 'M','T1', 'T2', 'best_x', 'best_y', 'neval'])\n",
    "    results = pd.concat([results, res_df], axis=0)"
   ]
  },
  {
   "cell_type": "code",
   "execution_count": 14,
   "metadata": {
    "scrolled": true
   },
   "outputs": [
    {
     "data": {
      "text/html": [
       "<div>\n",
       "<style scoped>\n",
       "    .dataframe tbody tr th:only-of-type {\n",
       "        vertical-align: middle;\n",
       "    }\n",
       "\n",
       "    .dataframe tbody tr th {\n",
       "        vertical-align: top;\n",
       "    }\n",
       "\n",
       "    .dataframe thead th {\n",
       "        text-align: right;\n",
       "    }\n",
       "</style>\n",
       "<table border=\"1\" class=\"dataframe\">\n",
       "  <thead>\n",
       "    <tr style=\"text-align: right;\">\n",
       "      <th></th>\n",
       "      <th>heur</th>\n",
       "      <th>N</th>\n",
       "      <th>M</th>\n",
       "      <th>feo</th>\n",
       "      <th>mne</th>\n",
       "      <th>rel</th>\n",
       "    </tr>\n",
       "  </thead>\n",
       "  <tbody>\n",
       "    <tr>\n",
       "      <th>6</th>\n",
       "      <td>ELIT_ratio:0.25</td>\n",
       "      <td>200</td>\n",
       "      <td>1000</td>\n",
       "      <td>1102.320988</td>\n",
       "      <td>49.604444</td>\n",
       "      <td>0.0450</td>\n",
       "    </tr>\n",
       "    <tr>\n",
       "      <th>5</th>\n",
       "      <td>ELIT_ratio:0.125</td>\n",
       "      <td>200</td>\n",
       "      <td>1000</td>\n",
       "      <td>1205.949162</td>\n",
       "      <td>51.855814</td>\n",
       "      <td>0.0430</td>\n",
       "    </tr>\n",
       "    <tr>\n",
       "      <th>4</th>\n",
       "      <td>ELIT_PARAS_ratio:1</td>\n",
       "      <td>200</td>\n",
       "      <td>1000</td>\n",
       "      <td>1208.496094</td>\n",
       "      <td>46.406250</td>\n",
       "      <td>0.0384</td>\n",
       "    </tr>\n",
       "    <tr>\n",
       "      <th>2</th>\n",
       "      <td>ELIT_PARAS_ratio:0.5</td>\n",
       "      <td>200</td>\n",
       "      <td>1000</td>\n",
       "      <td>1225.270721</td>\n",
       "      <td>48.030612</td>\n",
       "      <td>0.0392</td>\n",
       "    </tr>\n",
       "    <tr>\n",
       "      <th>0</th>\n",
       "      <td>ELIT_PARAS_ratio:0.125</td>\n",
       "      <td>200</td>\n",
       "      <td>1000</td>\n",
       "      <td>1276.410105</td>\n",
       "      <td>49.269430</td>\n",
       "      <td>0.0386</td>\n",
       "    </tr>\n",
       "    <tr>\n",
       "      <th>7</th>\n",
       "      <td>ELIT_ratio:0.5</td>\n",
       "      <td>200</td>\n",
       "      <td>1000</td>\n",
       "      <td>1305.652602</td>\n",
       "      <td>47.786885</td>\n",
       "      <td>0.0366</td>\n",
       "    </tr>\n",
       "    <tr>\n",
       "      <th>10</th>\n",
       "      <td>GO</td>\n",
       "      <td>200</td>\n",
       "      <td>1000</td>\n",
       "      <td>1306.374402</td>\n",
       "      <td>49.380952</td>\n",
       "      <td>0.0378</td>\n",
       "    </tr>\n",
       "    <tr>\n",
       "      <th>9</th>\n",
       "      <td>ELIT_ratio:1</td>\n",
       "      <td>200</td>\n",
       "      <td>1000</td>\n",
       "      <td>1311.023429</td>\n",
       "      <td>52.965347</td>\n",
       "      <td>0.0404</td>\n",
       "    </tr>\n",
       "    <tr>\n",
       "      <th>8</th>\n",
       "      <td>ELIT_ratio:0.75</td>\n",
       "      <td>200</td>\n",
       "      <td>1000</td>\n",
       "      <td>1369.550779</td>\n",
       "      <td>49.851648</td>\n",
       "      <td>0.0364</td>\n",
       "    </tr>\n",
       "    <tr>\n",
       "      <th>1</th>\n",
       "      <td>ELIT_PARAS_ratio:0.25</td>\n",
       "      <td>200</td>\n",
       "      <td>1000</td>\n",
       "      <td>1396.648045</td>\n",
       "      <td>50.000000</td>\n",
       "      <td>0.0358</td>\n",
       "    </tr>\n",
       "    <tr>\n",
       "      <th>3</th>\n",
       "      <td>ELIT_PARAS_ratio:0.75</td>\n",
       "      <td>200</td>\n",
       "      <td>1000</td>\n",
       "      <td>1483.843537</td>\n",
       "      <td>49.857143</td>\n",
       "      <td>0.0336</td>\n",
       "    </tr>\n",
       "  </tbody>\n",
       "</table>\n",
       "</div>"
      ],
      "text/plain": [
       "                      heur    N     M          feo        mne     rel\n",
       "6          ELIT_ratio:0.25  200  1000  1102.320988  49.604444  0.0450\n",
       "5         ELIT_ratio:0.125  200  1000  1205.949162  51.855814  0.0430\n",
       "4       ELIT_PARAS_ratio:1  200  1000  1208.496094  46.406250  0.0384\n",
       "2     ELIT_PARAS_ratio:0.5  200  1000  1225.270721  48.030612  0.0392\n",
       "0   ELIT_PARAS_ratio:0.125  200  1000  1276.410105  49.269430  0.0386\n",
       "7           ELIT_ratio:0.5  200  1000  1305.652602  47.786885  0.0366\n",
       "10                      GO  200  1000  1306.374402  49.380952  0.0378\n",
       "9             ELIT_ratio:1  200  1000  1311.023429  52.965347  0.0404\n",
       "8          ELIT_ratio:0.75  200  1000  1369.550779  49.851648  0.0364\n",
       "1    ELIT_PARAS_ratio:0.25  200  1000  1396.648045  50.000000  0.0358\n",
       "3    ELIT_PARAS_ratio:0.75  200  1000  1483.843537  49.857143  0.0336"
      ]
     },
     "execution_count": 14,
     "metadata": {},
     "output_type": "execute_result"
    }
   ],
   "source": [
    "results_pivot = results.pivot_table(\n",
    "    index=['heur', 'N', 'M'],\n",
    "    values=['neval'],\n",
    "    aggfunc=(rel, mne, feo)\n",
    ")['neval']\n",
    "results_pivot = results_pivot.reset_index()\n",
    "results_pivot.sort_values(by=['feo'])"
   ]
  },
  {
   "cell_type": "markdown",
   "metadata": {},
   "source": [
    "For Elitism, literature suggests that the number of elites in the population should not exceed 10 % of the total population to maintain diversity, which was proven by experiment. **Elitism** performs best for free passage of 25 % of the best individuals, meaning it constitutes 5 % of the new population (second best: 12.5 % and 2.5 % respectively). \n",
    "\n",
    "**Elitism** combined with **Parasitism** performs best for free passage of all 100 % of the best and worst individuals. \n",
    "\n",
    "With correct settings, both modifications outperform 'vanilla' **GO**, although **Elitism** performs overall better."
   ]
  },
  {
   "cell_type": "markdown",
   "metadata": {},
   "source": [
    "## Conclusions\n",
    "* Lévy mutation performs not as good as Cauchy mutation,\n",
    "* **Elitism** proposal performs better than 'vanilla' **Genetic Optimization**,\n",
    "* **Elitism** in combination with **Parasitism** performs better than 'vanilla' **Genetic Optimization** with correct settings."
   ]
  }
 ],
 "metadata": {
  "kernelspec": {
   "display_name": "Python 3",
   "language": "python",
   "name": "python3"
  },
  "language_info": {
   "codemirror_mode": {
    "name": "ipython",
    "version": 3
   },
   "file_extension": ".py",
   "mimetype": "text/x-python",
   "name": "python",
   "nbconvert_exporter": "python",
   "pygments_lexer": "ipython3",
   "version": "3.6.8"
  }
 },
 "nbformat": 4,
 "nbformat_minor": 2
}
